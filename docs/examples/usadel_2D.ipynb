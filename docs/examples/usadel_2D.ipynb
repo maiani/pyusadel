{
 "cells": [
  {
   "cell_type": "code",
   "execution_count": 1,
   "id": "e0a2f31c",
   "metadata": {
    "ExecuteTime": {
     "end_time": "2022-03-08T08:08:35.075397Z",
     "start_time": "2022-03-08T08:08:34.452633Z"
    }
   },
   "outputs": [],
   "source": [
    "import matplotlib as mpl\n",
    "import matplotlib.pyplot as plt\n",
    "import numpy as np\n",
    "import scipy.sparse as sparse\n",
    "from pyusadel import DifferentialOperators, UsadelProblem, gradient, laplacian"
   ]
  },
  {
   "cell_type": "markdown",
   "id": "3e204a58-0459-4a30-8e3a-3fcc040e8b6e",
   "metadata": {},
   "source": [
    "# Setup"
   ]
  },
  {
   "cell_type": "code",
   "execution_count": 2,
   "id": "ce2ef82e-6a01-4c5e-a2e3-a3e95681b547",
   "metadata": {},
   "outputs": [],
   "source": [
    "Ny = 21\n",
    "Nx = 21\n",
    "Nsites = Nx * Ny\n",
    "\n",
    "x_ax = np.linspace(-10, 10, Nx)\n",
    "dx = x_ax[1] - x_ax[0]\n",
    "\n",
    "y_ax = np.linspace(0, 20, Ny)\n",
    "dy = y_ax[1] - y_ax[0]\n",
    "\n",
    "x, y = np.meshgrid(x_ax, y_ax, indexing=\"ij\")"
   ]
  },
  {
   "cell_type": "code",
   "execution_count": 3,
   "id": "4c8e10d2-29e2-491d-89c7-f8040d842fb2",
   "metadata": {},
   "outputs": [],
   "source": [
    "T_c0 = 1\n",
    "Delta_00 = T_c0 * 1.7652\n",
    "h_c0 = Delta_00 / np.sqrt(2)\n",
    "\n",
    "D = 1**2 * Delta_00\n",
    "xi_00 = np.sqrt(D / Delta_00)"
   ]
  },
  {
   "cell_type": "code",
   "execution_count": 4,
   "id": "8f796de5-ef69-4902-a0e8-2113b007e8aa",
   "metadata": {},
   "outputs": [],
   "source": [
    "h_x_2D = np.zeros((Nx, Ny), dtype=float)\n",
    "h_y_2D = np.zeros((Nx, Ny), dtype=float)\n",
    "h_z_2D = np.zeros((Nx, Ny), dtype=float)\n",
    "\n",
    "h_x_2D[: Nx // 2, : Ny // 2] = -1.5\n",
    "h_x_2D[Nx // 2 :, : Ny // 2] = +1.5\n",
    "\n",
    "h_x = h_x_2D.flatten()\n",
    "h_y = h_y_2D.flatten()\n",
    "h_z = h_z_2D.flatten()"
   ]
  },
  {
   "cell_type": "code",
   "execution_count": 5,
   "id": "a0e6e45f-55b2-4e9f-99b3-3372ede63019",
   "metadata": {},
   "outputs": [
    {
     "data": {
      "text/plain": [
       "<matplotlib.colorbar.Colorbar at 0x7f1b2ff277c0>"
      ]
     },
     "execution_count": 5,
     "metadata": {},
     "output_type": "execute_result"
    },
    {
     "data": {
      "image/png": "[encoded data removed]",
      "text/plain": [
       "<Figure size 640x480 with 2 Axes>"
      ]
     },
     "metadata": {},
     "output_type": "display_data"
    }
   ],
   "source": [
    "im = plt.contourf(x, y, h_x_2D, cmap=\"RdBu\", levels=101)\n",
    "plt.colorbar(im)"
   ]
  },
  {
   "cell_type": "code",
   "execution_count": 6,
   "id": "156bca51-8331-407e-b223-c8d708a6eb23",
   "metadata": {},
   "outputs": [],
   "source": [
    "I_y = sparse.eye(Ny)\n",
    "I_x = sparse.eye(Nx)\n",
    "D_x = sparse.kron(gradient(Nx, dx, \"open\"), I_y)\n",
    "D_y = sparse.kron(I_x, gradient(Ny, dy, \"open\"))\n",
    "\n",
    "L_x = laplacian(Nx, dx, \"open\")\n",
    "L_y = laplacian(Ny, dy, \"open\")\n",
    "L = sparse.kron(I_x, L_y) + sparse.kron(L_x, I_y)\n",
    "\n",
    "diff_ops = DifferentialOperators()\n",
    "diff_ops.D_x = D_x\n",
    "diff_ops.D_y = D_y\n",
    "diff_ops.D_z = 0 * D_x\n",
    "diff_ops.L = L"
   ]
  },
  {
   "cell_type": "code",
   "execution_count": 7,
   "id": "32441110-a146-4e8d-aa95-db28d132dbd2",
   "metadata": {},
   "outputs": [],
   "source": [
    "T_c0 = 1\n",
    "Delta_00 = T_c0 * 1.7652\n",
    "h_c0 = Delta_00 / np.sqrt(2)\n",
    "\n",
    "D = (1**2) * Delta_00\n",
    "xi_00 = np.sqrt(D / Delta_00)\n",
    "tau_so_inv = 0.0 * h_x\n",
    "tau_sf_inv = 0.0 * h_x\n",
    "T = 0.2\n",
    "Gamma = 1e-4\n",
    "\n",
    "up = UsadelProblem(\n",
    "    Nsites=Nx * Ny,\n",
    "    diff_ops=diff_ops,\n",
    "    h_x=h_x,\n",
    "    h_y=h_y,\n",
    "    h_z=h_z,\n",
    "    tau_sf_inv=tau_sf_inv,\n",
    "    tau_so_inv=tau_so_inv,\n",
    "    D=D,\n",
    "    T=T,\n",
    "    T_c0=T_c0,\n",
    "    Gamma=Gamma,\n",
    ")"
   ]
  },
  {
   "cell_type": "code",
   "execution_count": 8,
   "id": "c350657c-05b0-4cb7-a8d7-84ac0553dde0",
   "metadata": {},
   "outputs": [],
   "source": [
    "up.Delta = np.zeros((Nx * Ny), dtype=float) + 1.764"
   ]
  },
  {
   "cell_type": "code",
   "execution_count": 9,
   "id": "03e67f97-10bd-47f6-8fba-64fc8c9a031c",
   "metadata": {},
   "outputs": [
    {
     "name": "stdout",
     "output_type": "stream",
     "text": [
      "  1    Max Delta: 1.764    Residual: 8.83e-03    Free energy: -2.09e+02\n",
      "  2    Max Delta: 1.764    Residual: 8.18e-03    Free energy: -2.11e+02\n",
      "  3    Max Delta: 1.764    Residual: 7.60e-03    Free energy: -2.13e+02\n",
      "  4    Max Delta: 1.764    Residual: 7.17e-03    Free energy: -2.14e+02\n",
      "  5    Max Delta: 1.764    Residual: 6.86e-03    Free energy: -2.16e+02\n",
      "  6    Max Delta: 1.764    Residual: 6.66e-03    Free energy: -2.17e+02\n",
      "  7    Max Delta: 1.764    Residual: 6.55e-03    Free energy: -2.18e+02\n",
      "  8    Max Delta: 1.764    Residual: 6.54e-03    Free energy: -2.19e+02\n",
      "  9    Max Delta: 1.764    Residual: 6.60e-03    Free energy: -2.20e+02\n",
      " 10    Max Delta: 1.764    Residual: 6.75e-03    Free energy: -2.21e+02\n",
      " 11    Max Delta: 1.764    Residual: 6.99e-03    Free energy: -2.23e+02\n",
      " 12    Max Delta: 1.764    Residual: 7.31e-03    Free energy: -2.24e+02\n",
      " 13    Max Delta: 1.764    Residual: 7.72e-03    Free energy: -2.25e+02\n",
      " 14    Max Delta: 1.764    Residual: 8.21e-03    Free energy: -2.27e+02\n",
      " 15    Max Delta: 1.764    Residual: 8.78e-03    Free energy: -2.29e+02\n",
      " 16    Max Delta: 1.764    Residual: 9.43e-03    Free energy: -2.31e+02\n",
      " 17    Max Delta: 1.764    Residual: 1.01e-02    Free energy: -2.34e+02\n",
      " 18    Max Delta: 1.764    Residual: 1.09e-02    Free energy: -2.37e+02\n",
      " 19    Max Delta: 1.764    Residual: 1.16e-02    Free energy: -2.40e+02\n",
      " 20    Max Delta: 1.764    Residual: 1.23e-02    Free energy: -2.44e+02\n",
      " 21    Max Delta: 1.764    Residual: 1.29e-02    Free energy: -2.48e+02\n",
      " 22    Max Delta: 1.764    Residual: 1.34e-02    Free energy: -2.52e+02\n",
      " 23    Max Delta: 1.764    Residual: 1.38e-02    Free energy: -2.56e+02\n",
      " 24    Max Delta: 1.764    Residual: 1.41e-02    Free energy: -2.60e+02\n",
      " 25    Max Delta: 1.764    Residual: 1.42e-02    Free energy: -2.64e+02\n",
      " 26    Max Delta: 1.764    Residual: 1.42e-02    Free energy: -2.68e+02\n",
      " 27    Max Delta: 1.764    Residual: 1.41e-02    Free energy: -2.72e+02\n",
      " 28    Max Delta: 1.764    Residual: 1.39e-02    Free energy: -2.75e+02\n",
      " 29    Max Delta: 1.764    Residual: 1.36e-02    Free energy: -2.79e+02\n",
      " 30    Max Delta: 1.764    Residual: 1.33e-02    Free energy: -2.82e+02\n",
      " 31    Max Delta: 1.764    Residual: 1.29e-02    Free energy: -2.84e+02\n",
      " 32    Max Delta: 1.764    Residual: 1.25e-02    Free energy: -2.86e+02\n",
      " 33    Max Delta: 1.764    Residual: 1.20e-02    Free energy: -2.89e+02\n",
      " 34    Max Delta: 1.764    Residual: 1.16e-02    Free energy: -2.90e+02\n",
      " 35    Max Delta: 1.764    Residual: 1.11e-02    Free energy: -2.92e+02\n",
      " 36    Max Delta: 1.764    Residual: 1.06e-02    Free energy: -2.94e+02\n",
      " 37    Max Delta: 1.764    Residual: 1.01e-02    Free energy: -2.95e+02\n",
      " 38    Max Delta: 1.764    Residual: 9.67e-03    Free energy: -2.96e+02\n",
      " 39    Max Delta: 1.764    Residual: 9.20e-03    Free energy: -2.97e+02\n",
      " 40    Max Delta: 1.764    Residual: 8.75e-03    Free energy: -2.98e+02\n",
      " 41    Max Delta: 1.764    Residual: 8.31e-03    Free energy: -2.99e+02\n",
      " 42    Max Delta: 1.764    Residual: 7.88e-03    Free energy: -3.00e+02\n",
      " 43    Max Delta: 1.764    Residual: 7.47e-03    Free energy: -3.00e+02\n",
      " 44    Max Delta: 1.764    Residual: 7.08e-03    Free energy: -3.01e+02\n",
      " 45    Max Delta: 1.764    Residual: 6.70e-03    Free energy: -3.02e+02\n",
      " 46    Max Delta: 1.764    Residual: 6.34e-03    Free energy: -3.02e+02\n",
      " 47    Max Delta: 1.764    Residual: 6.00e-03    Free energy: -3.02e+02\n",
      " 48    Max Delta: 1.764    Residual: 5.67e-03    Free energy: -3.03e+02\n",
      " 49    Max Delta: 1.764    Residual: 5.36e-03    Free energy: -3.03e+02\n",
      " 50    Max Delta: 1.764    Residual: 5.07e-03    Free energy: -3.04e+02\n",
      " 51    Max Delta: 1.764    Residual: 4.79e-03    Free energy: -3.04e+02\n",
      " 52    Max Delta: 1.764    Residual: 4.53e-03    Free energy: -3.04e+02\n",
      " 53    Max Delta: 1.764    Residual: 4.28e-03    Free energy: -3.04e+02\n",
      " 54    Max Delta: 1.764    Residual: 4.04e-03    Free energy: -3.05e+02\n",
      " 55    Max Delta: 1.764    Residual: 3.82e-03    Free energy: -3.05e+02\n",
      " 56    Max Delta: 1.764    Residual: 3.61e-03    Free energy: -3.05e+02\n",
      " 57    Max Delta: 1.764    Residual: 3.41e-03    Free energy: -3.05e+02\n",
      " 58    Max Delta: 1.764    Residual: 3.22e-03    Free energy: -3.05e+02\n",
      " 59    Max Delta: 1.764    Residual: 3.04e-03    Free energy: -3.05e+02\n",
      " 60    Max Delta: 1.764    Residual: 2.88e-03    Free energy: -3.06e+02\n",
      " 61    Max Delta: 1.764    Residual: 2.72e-03    Free energy: -3.06e+02\n",
      " 62    Max Delta: 1.764    Residual: 2.57e-03    Free energy: -3.06e+02\n",
      " 63    Max Delta: 1.764    Residual: 2.43e-03    Free energy: -3.06e+02\n",
      " 64    Max Delta: 1.764    Residual: 2.30e-03    Free energy: -3.06e+02\n",
      " 65    Max Delta: 1.764    Residual: 2.17e-03    Free energy: -3.06e+02\n",
      " 66    Max Delta: 1.764    Residual: 2.06e-03    Free energy: -3.06e+02\n",
      " 67    Max Delta: 1.764    Residual: 1.95e-03    Free energy: -3.06e+02\n",
      " 68    Max Delta: 1.764    Residual: 1.84e-03    Free energy: -3.06e+02\n",
      " 69    Max Delta: 1.764    Residual: 1.74e-03    Free energy: -3.06e+02\n",
      " 70    Max Delta: 1.764    Residual: 1.65e-03    Free energy: -3.06e+02\n",
      " 71    Max Delta: 1.764    Residual: 1.56e-03    Free energy: -3.07e+02\n",
      " 72    Max Delta: 1.764    Residual: 1.48e-03    Free energy: -3.07e+02\n",
      " 73    Max Delta: 1.764    Residual: 1.40e-03    Free energy: -3.07e+02\n",
      " 74    Max Delta: 1.764    Residual: 1.33e-03    Free energy: -3.07e+02\n",
      " 75    Max Delta: 1.764    Residual: 1.26e-03    Free energy: -3.07e+02\n",
      " 76    Max Delta: 1.764    Residual: 1.19e-03    Free energy: -3.07e+02\n",
      " 77    Max Delta: 1.764    Residual: 1.13e-03    Free energy: -3.07e+02\n",
      " 78    Max Delta: 1.764    Residual: 1.07e-03    Free energy: -3.07e+02\n",
      " 79    Max Delta: 1.764    Residual: 1.02e-03    Free energy: -3.07e+02\n",
      " 80    Max Delta: 1.764    Residual: 9.65e-04    Free energy: -3.07e+02\n",
      " 81    Max Delta: 1.764    Residual: 9.16e-04    Free energy: -3.07e+02\n",
      " 82    Max Delta: 1.764    Residual: 8.70e-04    Free energy: -3.07e+02\n",
      " 83    Max Delta: 1.764    Residual: 8.26e-04    Free energy: -3.07e+02\n",
      " 84    Max Delta: 1.764    Residual: 7.85e-04    Free energy: -3.07e+02\n",
      " 85    Max Delta: 1.764    Residual: 7.44e-04    Free energy: -3.07e+02\n",
      " 86    Max Delta: 1.764    Residual: 7.07e-04    Free energy: -3.07e+02\n",
      " 87    Max Delta: 1.764    Residual: 6.71e-04    Free energy: -3.07e+02\n",
      " 88    Max Delta: 1.764    Residual: 6.37e-04    Free energy: -3.07e+02\n",
      " 89    Max Delta: 1.764    Residual: 6.05e-04    Free energy: -3.07e+02\n",
      " 90    Max Delta: 1.764    Residual: 5.75e-04    Free energy: -3.07e+02\n",
      " 91    Max Delta: 1.764    Residual: 5.48e-04    Free energy: -3.07e+02\n",
      " 92    Max Delta: 1.764    Residual: 5.21e-04    Free energy: -3.07e+02\n",
      " 93    Max Delta: 1.764    Residual: 4.96e-04    Free energy: -3.07e+02\n",
      " 94    Max Delta: 1.764    Residual: 4.72e-04    Free energy: -3.07e+02\n",
      " 95    Max Delta: 1.764    Residual: 4.50e-04    Free energy: -3.07e+02\n",
      " 96    Max Delta: 1.764    Residual: 4.28e-04    Free energy: -3.07e+02\n",
      " 97    Max Delta: 1.764    Residual: 4.09e-04    Free energy: -3.07e+02\n",
      " 98    Max Delta: 1.764    Residual: 3.90e-04    Free energy: -3.07e+02\n",
      " 99    Max Delta: 1.764    Residual: 3.72e-04    Free energy: -3.07e+02\n",
      "100    Max Delta: 1.764    Residual: 3.54e-04    Free energy: -3.07e+02\n",
      "101    Max Delta: 1.764    Residual: 3.37e-04    Free energy: -3.07e+02\n",
      "Max iteration reached\n"
     ]
    }
   ],
   "source": [
    "up.solve_self_consistent(verbose=True)"
   ]
  },
  {
   "cell_type": "code",
   "execution_count": 11,
   "id": "e78b1c44-92a1-4ed9-bc5d-2bb5abe8f227",
   "metadata": {},
   "outputs": [
    {
     "data": {
      "image/png": "[encoded data removed]",
      "text/plain": [
       "<Figure size 420x200 with 4 Axes>"
      ]
     },
     "metadata": {},
     "output_type": "display_data"
    }
   ],
   "source": [
    "Delta_2D = up.Delta.reshape((Ny, Nx))\n",
    "\n",
    "fig, ax = plt.subplots(figsize=(4.2, 2), ncols=2, sharey=True)\n",
    "im0 = ax[0].contourf(\n",
    "    x / xi_00,\n",
    "    y / xi_00,\n",
    "    h_x.reshape(Nx, Ny) / h_c0,\n",
    "    cmap=\"jet\",\n",
    "    levels=np.linspace(-2, 2, 101),\n",
    ")\n",
    "ax[0].set_xlabel(r\"$x/\\xi_{00}$\")\n",
    "ax[0].set_ylabel(r\"$y/\\xi_{00}$\")\n",
    "cb0 = fig.colorbar(im0, ax=ax[0])\n",
    "ax[0].set_title(r\"$h_x / h_{c0}$\")\n",
    "\n",
    "im1 = ax[1].contourf(\n",
    "    x / xi_00,\n",
    "    y / xi_00,\n",
    "    up.Delta.reshape(Nx, Ny) / Delta_00,\n",
    "    cmap=\"inferno\",\n",
    "    levels=np.linspace(-0.02, 1, 101),\n",
    ")\n",
    "ax[1].set_xlabel(r\"$x/\\xi_{00}$\")\n",
    "# ax[1].set_ylabel(r\"$y/\\xi_{00}$\")\n",
    "fig.colorbar(im1, ax=ax[1])\n",
    "ax[1].set_title(r\"$\\Delta / \\Delta_{00}$\")\n",
    "fig.tight_layout()"
   ]
  },
  {
   "cell_type": "code",
   "execution_count": 12,
   "id": "53989603-cb16-4a53-93ea-0d0c8c3b97ef",
   "metadata": {},
   "outputs": [
    {
     "data": {
      "text/plain": [
       "[<matplotlib.lines.Line2D at 0x7f1b2e714160>]"
      ]
     },
     "execution_count": 12,
     "metadata": {},
     "output_type": "execute_result"
    },
    {
     "data": {
      "image/png": "[encoded data removed]",
      "text/plain": [
       "<Figure size 640x480 with 1 Axes>"
      ]
     },
     "metadata": {},
     "output_type": "display_data"
    }
   ],
   "source": [
    "plt.plot(up.Delta.reshape(Nx, Ny)[:, 0])\n",
    "plt.plot(up.h_x.reshape(Nx, Ny)[:, 0])"
   ]
  },
  {
   "cell_type": "code",
   "execution_count": 14,
   "id": "7d00bd07-b285-4353-bf24-28c828115b3b",
   "metadata": {},
   "outputs": [
    {
     "name": "stdout",
     "output_type": "stream",
     "text": [
      "omega=3.00 : converged.\n",
      "omega=2.94 : converged.\n",
      "omega=2.88 : converged.\n",
      "omega=2.82 : converged.\n",
      "omega=2.76 : converged.\n",
      "omega=2.70 : converged.\n",
      "omega=2.64 : converged.\n",
      "omega=2.58 : converged.\n",
      "omega=2.52 : converged.\n",
      "omega=2.46 : converged.\n",
      "omega=2.40 : converged.\n",
      "omega=2.34 : converged.\n",
      "omega=2.28 : converged.\n",
      "omega=2.22 : converged.\n",
      "omega=2.16 : converged.\n",
      "omega=2.10 : converged.\n",
      "omega=2.04 : converged.\n",
      "omega=1.98 : converged.\n",
      "omega=1.92 : converged.\n",
      "omega=1.86 : converged.\n",
      "omega=1.80 : converged.\n",
      "omega=1.74 : converged.\n",
      "omega=1.68 : converged.\n",
      "omega=1.62 : converged.\n",
      "omega=1.56 : converged.\n",
      "omega=1.50 : converged.\n",
      "omega=1.44 : converged.\n",
      "omega=1.38 : converged.\n",
      "omega=1.32 : converged.\n",
      "omega=1.26 : converged.\n",
      "omega=1.20 : converged.\n",
      "omega=1.14 : converged.\n",
      "omega=1.08 : converged.\n",
      "omega=1.02 : converged.\n",
      "omega=0.96 : converged.\n",
      "omega=0.90 : converged.\n",
      "omega=0.84 : converged.\n",
      "omega=0.78 : converged.\n",
      "omega=0.72 : converged.\n",
      "omega=0.66 : converged.\n",
      "omega=0.60 : converged.\n",
      "omega=0.54 : converged.\n",
      "omega=0.48 : converged.\n",
      "omega=0.42 : converged.\n",
      "omega=0.36 : converged.\n",
      "omega=0.30 : converged.\n",
      "omega=0.24 : converged.\n",
      "omega=0.18 : converged.\n",
      "omega=0.12 : converged.\n",
      "omega=0.06 : converged.\n",
      "omega=-0.00 : converged.\n",
      "omega=-0.06 : converged.\n",
      "omega=-0.12 : converged.\n",
      "omega=-0.18 : converged.\n",
      "omega=-0.24 : converged.\n",
      "omega=-0.30 : converged.\n",
      "omega=-0.36 : converged.\n",
      "omega=-0.42 : converged.\n",
      "omega=-0.48 : converged.\n",
      "omega=-0.54 : converged.\n",
      "omega=-0.60 : converged.\n",
      "omega=-0.66 : converged.\n",
      "omega=-0.72 : converged.\n",
      "omega=-0.78 : converged.\n",
      "omega=-0.84 : converged.\n",
      "omega=-0.90 : converged.\n",
      "omega=-0.96 : converged.\n",
      "omega=-1.02 : converged.\n",
      "omega=-1.08 : converged.\n",
      "omega=-1.14 : converged.\n",
      "omega=-1.20 : converged.\n",
      "omega=-1.26 : converged.\n",
      "omega=-1.32 : converged.\n",
      "omega=-1.38 : converged.\n",
      "omega=-1.44 : converged.\n",
      "omega=-1.50 : converged.\n",
      "omega=-1.56 : converged.\n",
      "omega=-1.62 : converged.\n",
      "omega=-1.68 : converged.\n",
      "omega=-1.74 : converged.\n",
      "omega=-1.80 : converged.\n",
      "omega=-1.86 : converged.\n",
      "omega=-1.92 : converged.\n",
      "omega=-1.98 : converged.\n",
      "omega=-2.04 : converged.\n",
      "omega=-2.10 : converged.\n",
      "omega=-2.16 : converged.\n",
      "omega=-2.22 : converged.\n",
      "omega=-2.28 : converged.\n",
      "omega=-2.34 : converged.\n",
      "omega=-2.40 : converged.\n",
      "omega=-2.46 : converged.\n",
      "omega=-2.52 : converged.\n",
      "omega=-2.58 : converged.\n",
      "omega=-2.64 : converged.\n",
      "omega=-2.70 : converged.\n",
      "omega=-2.76 : converged.\n",
      "omega=-2.82 : converged.\n",
      "omega=-2.88 : converged.\n",
      "omega=-2.94 : converged.\n",
      "omega=-3.00 : converged.\n"
     ]
    }
   ],
   "source": [
    "up.set_real_omega_ax(-3, 3, 101)\n",
    "up.solve_spectral(\n",
    "    gamma=0.5, tol=1e-6, max_iter=1000, print_exit_status=True#, use_dense=True\n",
    ")"
   ]
  },
  {
   "cell_type": "code",
   "execution_count": 15,
   "id": "2ec86a2d-407a-47ae-b2d2-e01e5ee02c32",
   "metadata": {},
   "outputs": [
    {
     "ename": "NameError",
     "evalue": "name 'omega_N' is not defined",
     "output_type": "error",
     "traceback": [
      "\u001b[0;31m---------------------------------------------------------------------------\u001b[0m",
      "\u001b[0;31mNameError\u001b[0m                                 Traceback (most recent call last)",
      "Cell \u001b[0;32mIn[15], line 1\u001b[0m\n\u001b[0;32m----> 1\u001b[0m N_0_2D \u001b[38;5;241m=\u001b[39m up\u001b[38;5;241m.\u001b[39mget_ldos()\u001b[38;5;241m.\u001b[39mreshape((\u001b[43momega_N\u001b[49m, Ny, Nx))\n\u001b[1;32m      2\u001b[0m omega_ax \u001b[38;5;241m=\u001b[39m up\u001b[38;5;241m.\u001b[39mget_omega_ax_r()\n",
      "\u001b[0;31mNameError\u001b[0m: name 'omega_N' is not defined"
     ]
    }
   ],
   "source": [
    "N_0_2D = up.get_ldos().reshape((omega_N, Ny, Nx))\n",
    "omega_ax = up.get_omega_ax_r()"
   ]
  },
  {
   "cell_type": "code",
   "execution_count": null,
   "id": "8c31ad96-7df3-4d62-9f21-5b66c0978975",
   "metadata": {},
   "outputs": [],
   "source": [
    "fig, ax = plt.subplots(ncols=4, figsize=(6, 2), sharey=True)\n",
    "\n",
    "ax[0].plot(\n",
    "    N_0_2D[:, 0, 5],\n",
    "    omega_ax,\n",
    ")\n",
    "ax[1].plot(\n",
    "    N_0_2D[:, 0, 8],\n",
    "    omega_ax,\n",
    ")\n",
    "ax[2].plot(\n",
    "    N_0_2D[:, 0, 12],\n",
    "    omega_ax,\n",
    ")\n",
    "ax[3].plot(\n",
    "    N_0_2D[:, 0, 16],\n",
    "    omega_ax,\n",
    ")\n",
    "\n",
    "fig.tight_layout()"
   ]
  },
  {
   "cell_type": "code",
   "execution_count": null,
   "id": "ed27d3c9-58d6-469a-a12a-f2f42768ef05",
   "metadata": {},
   "outputs": [],
   "source": []
  }
 ],
 "metadata": {
  "kernelspec": {
   "display_name": "Python [conda env:qenv310] *",
   "language": "python",
   "name": "conda-env-qenv310-py"
  },
  "language_info": {
   "codemirror_mode": {
    "name": "ipython",
    "version": 3
   },
   "file_extension": ".py",
   "mimetype": "text/x-python",
   "name": "python",
   "nbconvert_exporter": "python",
   "pygments_lexer": "ipython3",
   "version": "3.10.9"
  }
 },
 "nbformat": 4,
 "nbformat_minor": 5
}
