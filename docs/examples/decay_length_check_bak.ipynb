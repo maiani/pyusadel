{
 "cells": [
  {
   "cell_type": "code",
   "execution_count": 22,
   "id": "e0a2f31c",
   "metadata": {
    "ExecuteTime": {
     "end_time": "2022-03-08T08:08:35.075397Z",
     "start_time": "2022-03-08T08:08:34.452633Z"
    }
   },
   "outputs": [],
   "source": [
    "import matplotlib as mpl\n",
    "import matplotlib.pyplot as plt\n",
    "import numpy as np\n",
    "from pyusadel import DifferentialOperators, UsadelProblem, gradient, laplacian"
   ]
  },
  {
   "cell_type": "code",
   "execution_count": 2,
   "id": "8f796de5-ef69-4902-a0e8-2113b007e8aa",
   "metadata": {},
   "outputs": [],
   "source": [
    "# Grid\n",
    "Nx = 801\n",
    "x = np.linspace(-4, 4, Nx)\n",
    "dx = x[1] - x[0]\n",
    "\n",
    "# Exhange field\n",
    "h_x = np.zeros((Nx), dtype=float)\n",
    "h_x[: Nx // 2] = 0.5\n",
    "h_x[Nx // 2 :] = 0 # 1.4\n",
    "\n",
    "h_y = np.zeros((Nx), dtype=float)\n",
    "\n",
    "h_z = np.zeros((Nx), dtype=float)\n",
    "\n",
    "# spin-flip and spin-orbit terms\n",
    "tau_sf_inv = np.zeros((Nx), dtype=float)\n",
    "tau_so_inv = np.zeros((Nx), dtype=float)\n",
    "\n",
    "# Initial guess for Delta\n",
    "Delta_init = np.ones((Nx), dtype=float)\n",
    "#Delta_init[: Nx // 2] += 1.764\n",
    "\n",
    "# Diffusion constant\n",
    "D = 1.7655\n",
    "\n",
    "# Temperature\n",
    "T = 0.2\n",
    "\n",
    "# Dynes\n",
    "Gamma = 1e-2"
   ]
  },
  {
   "cell_type": "code",
   "execution_count": 3,
   "id": "32441110-a146-4e8d-aa95-db28d132dbd2",
   "metadata": {},
   "outputs": [],
   "source": [
    "do = DifferentialOperators()\n",
    "do.D_x = gradient(Nx, dx, boundary_condition=\"open\")\n",
    "do.D_y = np.zeros((Nx, Nx), dtype=float)\n",
    "do.D_z = np.zeros((Nx, Nx), dtype=float)\n",
    "do.L = laplacian(Nx, dx, boundary_condition=\"open\")\n",
    "\n",
    "up = UsadelProblem(\n",
    "    Nsites=Nx,\n",
    "    diff_ops=do,\n",
    "    h_x=h_x,\n",
    "    h_y=h_y,\n",
    "    h_z=h_z,\n",
    "    tau_sf_inv=tau_sf_inv,\n",
    "    tau_so_inv=tau_so_inv,\n",
    "    D=D,\n",
    "    T=T,\n",
    "    Gamma=Gamma,\n",
    "    use_dense=False,\n",
    ")\n",
    "up.Delta = Delta_init"
   ]
  },
  {
   "cell_type": "code",
   "execution_count": 4,
   "id": "b84c4a5b-03cf-46ea-842d-1e437d8df261",
   "metadata": {},
   "outputs": [],
   "source": [
    "h_c0 = up.h_c0\n",
    "xi_00 = up.xi_00\n",
    "Delta_00 = up.Delta_00"
   ]
  },
  {
   "cell_type": "code",
   "execution_count": 5,
   "id": "c350657c-05b0-4cb7-a8d7-84ac0553dde0",
   "metadata": {
    "tags": []
   },
   "outputs": [
    {
     "data": {
      "text/plain": [
       "<matplotlib.legend.Legend at 0x7f7485354a90>"
      ]
     },
     "execution_count": 5,
     "metadata": {},
     "output_type": "execute_result"
    },
    {
     "data": {
      "image/png": "[encoded data removed]",
      "text/plain": [
       "<Figure size 432x288 with 1 Axes>"
      ]
     },
     "metadata": {
      "needs_background": "light"
     },
     "output_type": "display_data"
    }
   ],
   "source": [
    "fig, ax = plt.subplots()\n",
    "ax.hlines([h_c0, -h_c0], -6, 6, colors=\"k\", linestyles=\"--\", linewidth=1)\n",
    "ax.plot(x / xi_00, h_x, \".-\", label=r\"$h_x$\")\n",
    "ax.plot(x / xi_00, h_y, \".-\", label=r\"$h_y$\")\n",
    "ax.plot(x / xi_00, np.sqrt(h_x**2 + h_y**2), \"-\", label=r\"$|h|$\")\n",
    "ax.set_xlabel(r\"$x / \\xi_{00}$\")\n",
    "ax.legend()"
   ]
  },
  {
   "cell_type": "markdown",
   "id": "5a05ce71-fbef-4fe0-b998-4da333f792ca",
   "metadata": {
    "tags": []
   },
   "source": [
    "## Gap equation solver"
   ]
  },
  {
   "cell_type": "code",
   "execution_count": 6,
   "id": "9c32b900-de38-4122-a74f-b8ba9c692110",
   "metadata": {},
   "outputs": [],
   "source": [
    "# Uncomment to activate self-consistency\n",
    "#up.solve_self_consistent(verbose=True)"
   ]
  },
  {
   "cell_type": "code",
   "execution_count": 7,
   "id": "92cccf24-20f6-47fe-9e41-8a39eb9f5b1a",
   "metadata": {},
   "outputs": [],
   "source": [
    "#cc_idx = np.argsort(np.abs(np.abs(h_x) - h_c0))"
   ]
  },
  {
   "cell_type": "code",
   "execution_count": 8,
   "id": "f9d05e25-28ed-4c91-baed-e63501963c0f",
   "metadata": {},
   "outputs": [
    {
     "data": {
      "text/plain": [
       "<matplotlib.legend.Legend at 0x7f747bc26dd0>"
      ]
     },
     "execution_count": 8,
     "metadata": {},
     "output_type": "execute_result"
    },
    {
     "data": {
      "image/png": "[encoded data removed]",
      "text/plain": [
       "<Figure size 432x288 with 2 Axes>"
      ]
     },
     "metadata": {
      "needs_background": "light"
     },
     "output_type": "display_data"
    }
   ],
   "source": [
    "fig, ax = plt.subplots()\n",
    "ax.plot(x / xi_00, up.Delta / Delta_00, \".-C0\", label=r\"$\\Delta$\")\n",
    "ax.set_ylabel(r\"$\\Delta / \\Delta_{00}$\")\n",
    "# ax.vlines(x[cc_idx[0]] / xi_00, 0, 1, colors=\"k\", linestyles=\"--\", linewidth=0.5)\n",
    "# ax.vlines([x[cc_idx[1]]/xi_00], 0, 1, colors=\"-k\", linestyles=\"--\", linewidth=1)\n",
    "ax.plot(\n",
    "    x / xi_00,\n",
    "    up.Delta[Nx // 2 + 10] / Delta_00\n",
    "    + (np.diff(up.Delta / Delta_00) / (x[1] - x[0]))[Nx // 2 + 10]\n",
    "    * (x - x[Nx // 2 + 10]),\n",
    "    \"C0--\",\n",
    ")\n",
    "\n",
    "ax.set_ylim(-0.05, 1.05)\n",
    "ax.set_xlabel(r\"$x/\\xi_{00}$\")\n",
    "\n",
    "ax2 = ax.twinx()\n",
    "# ax2.hlines([+h_c0], -6, 6, colors=\"k\", linestyles=\"--\", linewidth=0.5)\n",
    "# ax2.hlines([-h_c], -6, 6, colors=\"k\", linestyles=\"--\", linewidth=1)\n",
    "\n",
    "ax2.plot(x / xi_00, h_x, \"-C1\", label=r\"$h_x$\")\n",
    "#ax2.plot(x / xi_00, h_y, \"-C2\", label=r\"$h_y$\")\n",
    "ax2.set_ylabel(r\"$h$\")\n",
    "\n",
    "ax.legend()\n",
    "ax2.legend()"
   ]
  },
  {
   "cell_type": "markdown",
   "id": "f1a79f0d-e956-4d7a-8a8d-db39b7d7e2e1",
   "metadata": {},
   "source": [
    "## Spectrum solver"
   ]
  },
  {
   "cell_type": "code",
   "execution_count": 9,
   "id": "7d00bd07-b285-4353-bf24-28c828115b3b",
   "metadata": {},
   "outputs": [
    {
     "name": "stdout",
     "output_type": "stream",
     "text": [
      "omega=2.00 : converged.\n",
      "omega=1.99 : converged.\n",
      "omega=1.97 : converged.\n",
      "omega=1.96 : converged.\n",
      "omega=1.95 : converged.\n",
      "omega=1.93 : converged.\n",
      "omega=1.92 : converged.\n",
      "omega=1.91 : converged.\n",
      "omega=1.89 : converged.\n",
      "omega=1.88 : converged.\n",
      "omega=1.87 : converged.\n",
      "omega=1.85 : converged.\n",
      "omega=1.84 : converged.\n",
      "omega=1.83 : converged.\n",
      "omega=1.81 : converged.\n",
      "omega=1.80 : converged.\n",
      "omega=1.79 : converged.\n",
      "omega=1.77 : converged.\n",
      "omega=1.76 : converged.\n",
      "omega=1.75 : converged.\n",
      "omega=1.73 : converged.\n",
      "omega=1.72 : converged.\n",
      "omega=1.71 : converged.\n",
      "omega=1.69 : converged.\n",
      "omega=1.68 : converged.\n",
      "omega=1.67 : converged.\n",
      "omega=1.65 : converged.\n",
      "omega=1.64 : converged.\n",
      "omega=1.63 : converged.\n",
      "omega=1.61 : converged.\n",
      "omega=1.60 : converged.\n",
      "omega=1.59 : converged.\n",
      "omega=1.57 : converged.\n",
      "omega=1.56 : converged.\n",
      "omega=1.55 : converged.\n",
      "omega=1.53 : converged.\n",
      "omega=1.52 : converged.\n",
      "omega=1.51 : converged.\n",
      "omega=1.49 : converged.\n",
      "omega=1.48 : converged.\n",
      "omega=1.47 : converged.\n",
      "omega=1.45 : converged.\n",
      "omega=1.44 : converged.\n",
      "omega=1.43 : converged.\n",
      "omega=1.41 : converged.\n",
      "omega=1.40 : converged.\n",
      "omega=1.39 : converged.\n",
      "omega=1.37 : converged.\n",
      "omega=1.36 : converged.\n",
      "omega=1.35 : converged.\n",
      "omega=1.33 : converged.\n",
      "omega=1.32 : converged.\n",
      "omega=1.31 : converged.\n",
      "omega=1.29 : converged.\n",
      "omega=1.28 : converged.\n",
      "omega=1.27 : converged.\n",
      "omega=1.25 : converged.\n",
      "omega=1.24 : converged.\n",
      "omega=1.23 : converged.\n",
      "omega=1.21 : converged.\n",
      "omega=1.20 : converged.\n",
      "omega=1.19 : converged.\n",
      "omega=1.17 : converged.\n",
      "omega=1.16 : converged.\n",
      "omega=1.15 : converged.\n",
      "omega=1.13 : converged.\n",
      "omega=1.12 : converged.\n",
      "omega=1.11 : converged.\n",
      "omega=1.09 : converged.\n",
      "omega=1.08 : converged.\n",
      "omega=1.07 : converged.\n",
      "omega=1.05 : converged.\n",
      "omega=1.04 : converged.\n",
      "omega=1.03 : converged.\n",
      "omega=1.01 : converged.\n",
      "omega=1.00 : max iteration reached.\n",
      "omega=0.99 : converged.\n",
      "omega=0.97 : converged.\n",
      "omega=0.96 : converged.\n",
      "omega=0.95 : converged.\n",
      "omega=0.93 : converged.\n",
      "omega=0.92 : converged.\n",
      "omega=0.91 : converged.\n",
      "omega=0.89 : converged.\n",
      "omega=0.88 : max iteration reached.\n",
      "omega=0.87 : converged.\n",
      "omega=0.85 : converged.\n",
      "omega=0.84 : converged.\n",
      "omega=0.83 : converged.\n",
      "omega=0.81 : converged.\n",
      "omega=0.80 : converged.\n",
      "omega=0.79 : converged.\n",
      "omega=0.77 : converged.\n",
      "omega=0.76 : converged.\n",
      "omega=0.75 : converged.\n",
      "omega=0.73 : converged.\n",
      "omega=0.72 : converged.\n",
      "omega=0.71 : converged.\n",
      "omega=0.69 : converged.\n",
      "omega=0.68 : converged.\n",
      "omega=0.67 : converged.\n",
      "omega=0.65 : converged.\n",
      "omega=0.64 : converged.\n",
      "omega=0.63 : converged.\n",
      "omega=0.61 : converged.\n",
      "omega=0.60 : converged.\n",
      "omega=0.59 : converged.\n",
      "omega=0.57 : converged.\n",
      "omega=0.56 : converged.\n",
      "omega=0.55 : converged.\n",
      "omega=0.53 : converged.\n",
      "omega=0.52 : converged.\n",
      "omega=0.51 : converged.\n",
      "omega=0.49 : converged.\n",
      "omega=0.48 : converged.\n",
      "omega=0.47 : converged.\n",
      "omega=0.45 : converged.\n",
      "omega=0.44 : converged.\n",
      "omega=0.43 : converged.\n",
      "omega=0.41 : converged.\n",
      "omega=0.40 : converged.\n",
      "omega=0.39 : converged.\n",
      "omega=0.37 : converged.\n",
      "omega=0.36 : converged.\n",
      "omega=0.35 : converged.\n",
      "omega=0.33 : converged.\n",
      "omega=0.32 : converged.\n",
      "omega=0.31 : converged.\n",
      "omega=0.29 : converged.\n",
      "omega=0.28 : converged.\n",
      "omega=0.27 : converged.\n",
      "omega=0.25 : converged.\n",
      "omega=0.24 : converged.\n",
      "omega=0.23 : converged.\n",
      "omega=0.21 : converged.\n",
      "omega=0.20 : converged.\n",
      "omega=0.19 : converged.\n",
      "omega=0.17 : converged.\n",
      "omega=0.16 : converged.\n",
      "omega=0.15 : converged.\n",
      "omega=0.13 : converged.\n",
      "omega=0.12 : converged.\n",
      "omega=0.11 : converged.\n",
      "omega=0.09 : converged.\n",
      "omega=0.08 : converged.\n",
      "omega=0.07 : converged.\n",
      "omega=0.05 : converged.\n",
      "omega=0.04 : converged.\n",
      "omega=0.03 : converged.\n",
      "omega=0.01 : converged.\n",
      "omega=-0.00 : converged.\n",
      "omega=-0.01 : converged.\n",
      "omega=-0.03 : converged.\n",
      "omega=-0.04 : converged.\n",
      "omega=-0.05 : converged.\n",
      "omega=-0.07 : converged.\n",
      "omega=-0.08 : converged.\n",
      "omega=-0.09 : converged.\n",
      "omega=-0.11 : converged.\n",
      "omega=-0.12 : converged.\n",
      "omega=-0.13 : converged.\n",
      "omega=-0.15 : converged.\n",
      "omega=-0.16 : converged.\n",
      "omega=-0.17 : converged.\n",
      "omega=-0.19 : converged.\n",
      "omega=-0.20 : converged.\n",
      "omega=-0.21 : converged.\n",
      "omega=-0.23 : converged.\n",
      "omega=-0.24 : converged.\n",
      "omega=-0.25 : converged.\n",
      "omega=-0.27 : converged.\n",
      "omega=-0.28 : converged.\n",
      "omega=-0.29 : converged.\n",
      "omega=-0.31 : converged.\n",
      "omega=-0.32 : converged.\n",
      "omega=-0.33 : converged.\n",
      "omega=-0.35 : converged.\n",
      "omega=-0.36 : converged.\n",
      "omega=-0.37 : converged.\n",
      "omega=-0.39 : converged.\n",
      "omega=-0.40 : converged.\n",
      "omega=-0.41 : converged.\n",
      "omega=-0.43 : converged.\n",
      "omega=-0.44 : converged.\n",
      "omega=-0.45 : converged.\n",
      "omega=-0.47 : converged.\n",
      "omega=-0.48 : converged.\n",
      "omega=-0.49 : converged.\n",
      "omega=-0.51 : converged.\n",
      "omega=-0.52 : converged.\n",
      "omega=-0.53 : converged.\n",
      "omega=-0.55 : converged.\n",
      "omega=-0.56 : converged.\n",
      "omega=-0.57 : converged.\n",
      "omega=-0.59 : converged.\n",
      "omega=-0.60 : converged.\n",
      "omega=-0.61 : converged.\n",
      "omega=-0.63 : converged.\n",
      "omega=-0.64 : converged.\n",
      "omega=-0.65 : converged.\n",
      "omega=-0.67 : converged.\n",
      "omega=-0.68 : converged.\n",
      "omega=-0.69 : converged.\n",
      "omega=-0.71 : converged.\n",
      "omega=-0.72 : converged.\n",
      "omega=-0.73 : converged.\n",
      "omega=-0.75 : converged.\n",
      "omega=-0.76 : converged.\n",
      "omega=-0.77 : converged.\n",
      "omega=-0.79 : converged.\n",
      "omega=-0.80 : converged.\n",
      "omega=-0.81 : converged.\n",
      "omega=-0.83 : converged.\n",
      "omega=-0.84 : converged.\n",
      "omega=-0.85 : converged.\n",
      "omega=-0.87 : converged.\n",
      "omega=-0.88 : converged.\n",
      "omega=-0.89 : converged.\n",
      "omega=-0.91 : converged.\n",
      "omega=-0.92 : converged.\n",
      "omega=-0.93 : converged.\n",
      "omega=-0.95 : converged.\n",
      "omega=-0.96 : converged.\n",
      "omega=-0.97 : converged.\n",
      "omega=-0.99 : converged.\n",
      "omega=-1.00 : converged.\n",
      "omega=-1.01 : converged.\n",
      "omega=-1.03 : converged.\n",
      "omega=-1.04 : converged.\n",
      "omega=-1.05 : converged.\n",
      "omega=-1.07 : converged.\n",
      "omega=-1.08 : converged.\n",
      "omega=-1.09 : converged.\n",
      "omega=-1.11 : converged.\n",
      "omega=-1.12 : converged.\n",
      "omega=-1.13 : converged.\n",
      "omega=-1.15 : converged.\n",
      "omega=-1.16 : converged.\n",
      "omega=-1.17 : converged.\n",
      "omega=-1.19 : converged.\n",
      "omega=-1.20 : converged.\n",
      "omega=-1.21 : converged.\n",
      "omega=-1.23 : converged.\n",
      "omega=-1.24 : converged.\n",
      "omega=-1.25 : converged.\n",
      "omega=-1.27 : converged.\n",
      "omega=-1.28 : converged.\n",
      "omega=-1.29 : converged.\n",
      "omega=-1.31 : converged.\n",
      "omega=-1.32 : converged.\n",
      "omega=-1.33 : converged.\n",
      "omega=-1.35 : converged.\n",
      "omega=-1.36 : converged.\n",
      "omega=-1.37 : converged.\n",
      "omega=-1.39 : converged.\n",
      "omega=-1.40 : converged.\n",
      "omega=-1.41 : converged.\n",
      "omega=-1.43 : converged.\n",
      "omega=-1.44 : converged.\n",
      "omega=-1.45 : converged.\n",
      "omega=-1.47 : converged.\n",
      "omega=-1.48 : converged.\n",
      "omega=-1.49 : converged.\n",
      "omega=-1.51 : converged.\n",
      "omega=-1.52 : converged.\n",
      "omega=-1.53 : converged.\n",
      "omega=-1.55 : converged.\n",
      "omega=-1.56 : converged.\n",
      "omega=-1.57 : converged.\n",
      "omega=-1.59 : converged.\n",
      "omega=-1.60 : converged.\n",
      "omega=-1.61 : converged.\n",
      "omega=-1.63 : converged.\n",
      "omega=-1.64 : converged.\n",
      "omega=-1.65 : converged.\n",
      "omega=-1.67 : converged.\n",
      "omega=-1.68 : converged.\n",
      "omega=-1.69 : converged.\n",
      "omega=-1.71 : converged.\n",
      "omega=-1.72 : converged.\n",
      "omega=-1.73 : converged.\n",
      "omega=-1.75 : converged.\n",
      "omega=-1.76 : converged.\n",
      "omega=-1.77 : converged.\n",
      "omega=-1.79 : converged.\n",
      "omega=-1.80 : converged.\n",
      "omega=-1.81 : converged.\n",
      "omega=-1.83 : converged.\n",
      "omega=-1.84 : converged.\n",
      "omega=-1.85 : converged.\n",
      "omega=-1.87 : converged.\n",
      "omega=-1.88 : converged.\n",
      "omega=-1.89 : converged.\n",
      "omega=-1.91 : converged.\n",
      "omega=-1.92 : converged.\n",
      "omega=-1.93 : converged.\n",
      "omega=-1.95 : converged.\n",
      "omega=-1.96 : converged.\n",
      "omega=-1.97 : converged.\n",
      "omega=-1.99 : converged.\n",
      "omega=-2.00 : converged.\n"
     ]
    }
   ],
   "source": [
    "up.set_real_omega_ax(-2, 2, 301)\n",
    "up.solve_spectral(\n",
    "    tol=1e-5,\n",
    "    max_iter=1000,\n",
    "    print_exit_status=True,\n",
    ")"
   ]
  },
  {
   "cell_type": "code",
   "execution_count": 10,
   "id": "e8d258df-9666-429e-937a-10ab0facf609",
   "metadata": {},
   "outputs": [],
   "source": [
    "omega_ax = up.get_omega_ax_r()\n",
    "DOS = up.get_dos()\n",
    "DOSu, DOSd = up.get_spin_resolved_dos(\"x\")"
   ]
  },
  {
   "cell_type": "code",
   "execution_count": 11,
   "id": "8c31ad96-7df3-4d62-9f21-5b66c0978975",
   "metadata": {},
   "outputs": [
    {
     "data": {
      "image/png": "[encoded data removed]",
      "text/plain": [
       "<Figure size 432x144 with 6 Axes>"
      ]
     },
     "metadata": {
      "needs_background": "light"
     },
     "output_type": "display_data"
    }
   ],
   "source": [
    "fig, ax = plt.subplots(ncols=6, figsize=(6, 2), sharey=True)\n",
    "\n",
    "ax[0].plot(\n",
    "    DOS[:, Nx // 5 * 0 + 10],\n",
    "    omega_ax,\n",
    ")\n",
    "ax[1].plot(\n",
    "    DOS[:, Nx // 5 * 1],\n",
    "    omega_ax,\n",
    ")\n",
    "ax[2].plot(\n",
    "    DOS[:, Nx // 5 * 2],\n",
    "    omega_ax,\n",
    ")\n",
    "ax[3].plot(\n",
    "    DOS[:, Nx // 5 * 3],\n",
    "    omega_ax,\n",
    ")\n",
    "\n",
    "ax[4].plot(\n",
    "    DOS[:, Nx // 5 * 4],\n",
    "    omega_ax,\n",
    ")\n",
    "\n",
    "ax[5].plot(\n",
    "    DOS[:, -1],\n",
    "    omega_ax,\n",
    ")\n",
    "\n",
    "for sax in ax:\n",
    "    sax.set_xlim(-0.2, 5)\n",
    "\n",
    "\n",
    "fig.tight_layout()"
   ]
  },
  {
   "cell_type": "code",
   "execution_count": 12,
   "id": "a98a7b00-fb44-417c-9152-cb595ca2adb9",
   "metadata": {},
   "outputs": [
    {
     "data": {
      "text/plain": [
       "(-2.0, 2.0)"
      ]
     },
     "execution_count": 12,
     "metadata": {},
     "output_type": "execute_result"
    },
    {
     "data": {
      "image/png": "[encoded data removed]",
      "text/plain": [
       "<Figure size 432x288 with 2 Axes>"
      ]
     },
     "metadata": {
      "needs_background": "light"
     },
     "output_type": "display_data"
    }
   ],
   "source": [
    "fig, ax = plt.subplots()\n",
    "\n",
    "im = ax.contourf(\n",
    "    x / xi_00, omega_ax, DOS, extend=\"both\", levels=np.linspace(0, 2), cmap=\"magma\"\n",
    ")\n",
    "fig.colorbar(im)\n",
    "\n",
    "ax.set_xlabel(r\"$x / \\xi_{00}$\")\n",
    "ax.set_xlim(-2, 2)"
   ]
  },
  {
   "cell_type": "code",
   "execution_count": 13,
   "id": "caed8867-463a-4ec4-ae1a-41af58e517db",
   "metadata": {},
   "outputs": [],
   "source": [
    "mM = omega_ax[np.argmax(DOSu - DOSd, axis=0)]\n",
    "mm = omega_ax[np.argmin(DOSu - DOSd, axis=0)]"
   ]
  },
  {
   "cell_type": "code",
   "execution_count": 14,
   "id": "4a15d58f-7015-4831-a674-9d64aea6f47f",
   "metadata": {},
   "outputs": [
    {
     "data": {
      "text/plain": [
       "(-2.0, 2.0)"
      ]
     },
     "execution_count": 14,
     "metadata": {},
     "output_type": "execute_result"
    },
    {
     "data": {
      "image/png": "[encoded data removed]",
      "text/plain": [
       "<Figure size 432x288 with 2 Axes>"
      ]
     },
     "metadata": {
      "needs_background": "light"
     },
     "output_type": "display_data"
    }
   ],
   "source": [
    "fig, ax = plt.subplots()\n",
    "\n",
    "im = ax.contourf(\n",
    "    x / xi_00, omega_ax, DOSu - DOSd, extend=\"both\", levels=np.linspace(-2, 2), cmap=\"magma\"\n",
    ")\n",
    "fig.colorbar(im)\n",
    "\n",
    "plt.plot(x, mm, '-k')\n",
    "plt.plot(x, mM, '-k')\n",
    "\n",
    "ax.set_xlabel(r\"$x / \\xi_{00}$\")\n",
    "ax.set_xlim(-2, 2)"
   ]
  },
  {
   "cell_type": "code",
   "execution_count": 15,
   "id": "73d11247-ddd5-4c24-a1b8-af25b8002b43",
   "metadata": {},
   "outputs": [],
   "source": [
    "gaussian = np.exp(-(x/xi_00)**2/(2))/np.sqrt(2*np.pi)"
   ]
  },
  {
   "cell_type": "code",
   "execution_count": 16,
   "id": "cb97e771-6479-40a0-a490-4d98370c21bb",
   "metadata": {},
   "outputs": [],
   "source": [
    "gaussian /= np.sum(gaussian)"
   ]
  },
  {
   "cell_type": "code",
   "execution_count": 17,
   "id": "788f4cd6-c765-4f7c-8ded-0900154dd5aa",
   "metadata": {},
   "outputs": [
    {
     "data": {
      "text/plain": [
       "<matplotlib.legend.Legend at 0x7f747a9bbf50>"
      ]
     },
     "execution_count": 17,
     "metadata": {},
     "output_type": "execute_result"
    },
    {
     "data": {
      "image/png": "[encoded data removed]",
      "text/plain": [
       "<Figure size 432x288 with 1 Axes>"
      ]
     },
     "metadata": {
      "needs_background": "light"
     },
     "output_type": "display_data"
    }
   ],
   "source": [
    "plt.plot(x/xi_00, h_x, label=r\"$h$\")\n",
    "#plt.plot(x/xi_00, np.convolve(h_x, gaussian, mode='same', ))\n",
    "\n",
    "plt.plot(x/xi_00, 1-np.abs((mM-mm))/2, label=r\"$h_eff$\")\n",
    "plt.plot(x/xi_00, np.exp(-(x/xi_00+1.5)**2)*0.5, label=\"gaussian\")\n",
    "plt.plot(x/xi_00, np.exp(-np.abs(x/xi_00+1.5))*0.5, label=\"exponential\")\n",
    "\n",
    "plt.xlabel(r\"$x/\\xi_{00}$\")\n",
    "plt.legend()\n",
    "#plt.ylabel(r\"$h_\\mathrm{eff}$\")"
   ]
  },
  {
   "cell_type": "code",
   "execution_count": 18,
   "id": "bf7cc6d2-ba5b-4949-a721-802491809d83",
   "metadata": {},
   "outputs": [
    {
     "name": "stderr",
     "output_type": "stream",
     "text": [
      "/tmp/ipykernel_27330/1443098415.py:1: RuntimeWarning: divide by zero encountered in log\n",
      "  plt.plot(x/xi_00, np.sqrt(-np.log(1-np.abs((mM-mm))/2)))\n"
     ]
    },
    {
     "data": {
      "text/plain": [
       "Text(0, 0.5, '$\\\\ln h_\\\\mathrm{eff}$')"
      ]
     },
     "execution_count": 18,
     "metadata": {},
     "output_type": "execute_result"
    },
    {
     "data": {
      "image/png": "[encoded data removed]",
      "text/plain": [
       "<Figure size 432x288 with 1 Axes>"
      ]
     },
     "metadata": {
      "needs_background": "light"
     },
     "output_type": "display_data"
    }
   ],
   "source": [
    "plt.plot(x/xi_00, np.sqrt(-np.log(1-np.abs((mM-mm))/2)))\n",
    "plt.xlabel(r\"$x/\\xi_{00}$\")\n",
    "plt.ylabel(r\"$\\ln h_\\mathrm{eff}$\")"
   ]
  },
  {
   "cell_type": "code",
   "execution_count": 19,
   "id": "e8bdc021-2f76-42dc-a06f-8c92925f0658",
   "metadata": {},
   "outputs": [],
   "source": [
    "import numpy as np\n",
    "from pyusadel import (\n",
    "    DifferentialOperators,\n",
    "    UsadelProblem,\n",
    "    gen_assemble_fns,\n",
    "    solve_usadel,\n",
    "    trivial_diffops,\n",
    ")\n",
    "from scipy.optimize import curve_fit\n",
    "\n",
    "\n",
    "def fit_nsts_modified(\n",
    "    e_ax,\n",
    "    dos,\n",
    "    initial_guess,\n",
    "    bounds,\n",
    "    Gamma,\n",
    "    verbose: bool = False,\n",
    "    solution=None,\n",
    "):\n",
    "    \"\"\"Fit the experimental data.\n",
    "\n",
    "    Parameters:\n",
    "    -------\n",
    "    e_ax_exp : np.ndarray\n",
    "        Energy axis of the experimental data.\n",
    "    dos_exp : np.ndarray\n",
    "        Spectroscopy data.\n",
    "    initial_guess: tuple\n",
    "        Initial guess for the paramteres\n",
    "    bounds : tuple(tuple, tuple)\n",
    "        Bounds on the parameters\n",
    "    tol : float\n",
    "        Objective tolerance.\n",
    "    verbose : bool\n",
    "        Whether printing the status.\n",
    "    solution : tuple(np.array, np.array)\n",
    "        Variables (theta, M_x). If provided, the program will use those\n",
    "        variable for the optimization. Useful to provide as initial guess\n",
    "        the results of a previous optimization.\n",
    "    \"\"\"\n",
    "\n",
    "    do = trivial_diffops()\n",
    "\n",
    "    if solution:\n",
    "        theta, M_x = solution\n",
    "    else:\n",
    "        theta = np.ones((e_ax.shape[0], 1), dtype=complex)\n",
    "        M_x = np.zeros((e_ax.shape[0], 1), dtype=complex)\n",
    "\n",
    "    def wrapper(e_ax_exp, *params):\n",
    "\n",
    "        Delta, h, tau_sf_inv = params\n",
    "\n",
    "        if verbose:\n",
    "            print(\n",
    "                f\"\"\"Delta = {Delta:4.3f}, h = {h:4.3f}, tau_sf_inv = {tau_sf_inv:4.3f}\"\"\"  # ,  tau_so_inv = {tau_so_inv:4.3f}\"\"\"\n",
    "            )\n",
    "\n",
    "        assemble_fns = gen_assemble_fns(\n",
    "            D=0,\n",
    "            diff_ops=do,\n",
    "            h_x=h,\n",
    "            h_y=0,\n",
    "            h_z=0,\n",
    "            tau_so_inv=0,\n",
    "            tau_sf_inv=tau_sf_inv,\n",
    "            Gamma=Gamma,\n",
    "        )\n",
    "\n",
    "        solve_usadel(\n",
    "            assemble_fns=assemble_fns,\n",
    "            h_x=h,\n",
    "            h_y=0,\n",
    "            h_z=0,\n",
    "            theta=theta,\n",
    "            M_x=M_x,\n",
    "            M_y=0,\n",
    "            M_z=0,\n",
    "            Delta=Delta,\n",
    "            omega_ax=-1j * e_ax,\n",
    "            gamma=1.0,\n",
    "            max_iter=1000,\n",
    "            print_exit_status=False,\n",
    "            use_dense=True,\n",
    "        )\n",
    "\n",
    "        M_0 = np.sqrt(1 + M_x**2)\n",
    "        \n",
    "        return np.real(M_0 * np.cos(theta))[0, :]\n",
    "\n",
    "    verbosity = 2 if verbose else 0\n",
    "\n",
    "    fit_results = curve_fit(\n",
    "        f=wrapper,\n",
    "        xdata=e_ax,\n",
    "        ydata=dos,\n",
    "        p0=initial_guess,\n",
    "        # sigma=None,\n",
    "        # absolute_sigma=False,\n",
    "        check_finite=True,\n",
    "        bounds=bounds,\n",
    "        # method=\"trf\",\n",
    "        # jac=None,\n",
    "        # full_output=True,\n",
    "        verbose=verbosity,\n",
    "        ftol=1e-6,\n",
    "        xtol=1e-6,\n",
    "        gtol=1e-6,\n",
    "        x_scale=\"jac\",\n",
    "    )\n",
    "\n",
    "    return fit_results"
   ]
  },
  {
   "cell_type": "code",
   "execution_count": 20,
   "id": "eb115b9e-3e38-4585-8415-a79d0c8a12cb",
   "metadata": {},
   "outputs": [
    {
     "data": {
      "text/plain": [
       "[<matplotlib.lines.Line2D at 0x7f747a9e70d0>]"
      ]
     },
     "execution_count": 20,
     "metadata": {},
     "output_type": "execute_result"
    },
    {
     "data": {
      "image/png": "[encoded data removed]",
      "text/plain": [
       "<Figure size 432x288 with 1 Axes>"
      ]
     },
     "metadata": {
      "needs_background": "light"
     },
     "output_type": "display_data"
    }
   ],
   "source": [
    "plt.plot(DOS[:, 0])"
   ]
  },
  {
   "cell_type": "code",
   "execution_count": 21,
   "id": "f91eacfe-a759-453c-bdee-a1cad4d96dfd",
   "metadata": {},
   "outputs": [
    {
     "name": "stdout",
     "output_type": "stream",
     "text": [
      "Delta = 0.100, h = 1.000, tau_sf_inv = 1.000\n",
      "Delta = 0.100, h = 1.000, tau_sf_inv = 1.000\n",
      "Delta = 0.100, h = 1.000, tau_sf_inv = 1.000\n",
      "Delta = 0.100, h = 1.000, tau_sf_inv = 1.000\n",
      "   Iteration     Total nfev        Cost      Cost reduction    Step norm     Optimality   \n",
      "       0              1         5.6861e+05                                    2.74e+01    \n",
      "Delta = 0.996, h = 1.000, tau_sf_inv = 0.004\n",
      "Delta = 0.996, h = 1.000, tau_sf_inv = 0.004\n",
      "Delta = 0.996, h = 1.000, tau_sf_inv = 0.004\n",
      "Delta = 0.996, h = 1.000, tau_sf_inv = 0.004\n",
      "       1              2         5.6578e+05      2.83e+03       1.34e+00       6.82e+02    \n",
      "Delta = 0.999, h = 1.000, tau_sf_inv = 0.001\n",
      "Delta = 0.999, h = 1.000, tau_sf_inv = 0.001\n",
      "Delta = 0.999, h = 1.000, tau_sf_inv = 0.001\n",
      "Delta = 0.999, h = 1.000, tau_sf_inv = 0.001\n",
      "       2              3         5.6514e+05      6.44e+02       3.72e-03       3.38e+02    \n",
      "Delta = 0.999, h = 1.000, tau_sf_inv = 0.001\n",
      "Delta = 0.999, h = 1.000, tau_sf_inv = 0.001\n",
      "Delta = 0.999, h = 1.000, tau_sf_inv = 0.001\n",
      "Delta = 0.999, h = 1.000, tau_sf_inv = 0.001\n",
      "       3              4         5.6506e+05      7.84e+01       5.94e-04       4.68e+01    \n",
      "Delta = 0.999, h = 1.000, tau_sf_inv = 0.001\n",
      "Delta = 0.999, h = 1.000, tau_sf_inv = 0.001\n",
      "Delta = 0.999, h = 1.000, tau_sf_inv = 0.001\n",
      "Delta = 0.999, h = 1.000, tau_sf_inv = 0.001\n",
      "       4              5         5.6506e+05      1.17e+00       6.08e-05       7.50e-01    \n",
      "Delta = 0.999, h = 1.000, tau_sf_inv = 0.001\n",
      "Delta = 0.999, h = 1.000, tau_sf_inv = 0.001\n",
      "Delta = 0.999, h = 1.000, tau_sf_inv = 0.001\n",
      "Delta = 0.999, h = 1.000, tau_sf_inv = 0.001\n",
      "       5              6         5.6506e+05      2.91e-04       1.12e-06       1.10e-02    \n",
      "Both `ftol` and `xtol` termination conditions are satisfied.\n",
      "Function evaluations 6, initial cost 5.6861e+05, final cost 5.6506e+05, first-order optimality 1.10e-02.\n"
     ]
    },
    {
     "data": {
      "text/plain": [
       "(array([9.99159895e-01, 1.00000000e+00, 9.34146100e-04]),\n",
       " array([[ 3.48399497e+08, -1.12379418e+11, -4.74497756e+09],\n",
       "        [-1.12379418e+11,  3.62490004e+13,  1.53053555e+12],\n",
       "        [-4.74497756e+09,  1.53053555e+12,  6.46235492e+10]]))"
      ]
     },
     "execution_count": 21,
     "metadata": {},
     "output_type": "execute_result"
    }
   ],
   "source": [
    "dos = DOS[:, 0]\n",
    "    \n",
    "fit_nsts_modified(\n",
    "    omega_ax,\n",
    "    dos,\n",
    "    initial_guess = (0.1, 1, 1),\n",
    "    bounds = ((0, 0, 0), (1, 1, 1)),\n",
    "    Gamma = 1e-5,\n",
    "    verbose = True\n",
    ")"
   ]
  },
  {
   "cell_type": "code",
   "execution_count": null,
   "id": "a208a090-97d4-4596-8901-c737d1996454",
   "metadata": {},
   "outputs": [],
   "source": []
  },
  {
   "cell_type": "code",
   "execution_count": null,
   "id": "6d556ad2-7b52-48b8-b0a7-f57826fdb4e3",
   "metadata": {},
   "outputs": [],
   "source": []
  }
 ],
 "metadata": {
  "kernelspec": {
   "display_name": "Python [conda env:qenv311]",
   "language": "python",
   "name": "conda-env-qenv311-py"
  },
  "language_info": {
   "codemirror_mode": {
    "name": "ipython",
    "version": 3
   },
   "file_extension": ".py",
   "mimetype": "text/x-python",
   "name": "python",
   "nbconvert_exporter": "python",
   "pygments_lexer": "ipython3",
   "version": "3.11.0"
  }
 },
 "nbformat": 4,
 "nbformat_minor": 5
}
