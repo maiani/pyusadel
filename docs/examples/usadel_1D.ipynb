{
 "cells": [
  {
   "cell_type": "code",
   "execution_count": 1,
   "id": "e0a2f31c",
   "metadata": {
    "ExecuteTime": {
     "end_time": "2022-03-08T08:08:35.075397Z",
     "start_time": "2022-03-08T08:08:34.452633Z"
    }
   },
   "outputs": [],
   "source": [
    "import matplotlib as mpl\n",
    "import matplotlib.pyplot as plt\n",
    "import numpy as np\n",
    "from pyusadel import DifferentialOperators, UsadelProblem, gradient, laplacian"
   ]
  },
  {
   "cell_type": "code",
   "execution_count": 2,
   "id": "8f796de5-ef69-4902-a0e8-2113b007e8aa",
   "metadata": {},
   "outputs": [],
   "source": [
    "Nx = 401\n",
    "x = np.linspace(-20, 20, Nx)\n",
    "dx = x[1] - x[0]\n",
    "\n",
    "h_x = np.zeros((Nx), dtype=float)\n",
    "h_y = np.zeros((Nx), dtype=float)\n",
    "h_z = np.zeros((Nx), dtype=float)\n",
    "\n",
    "h_x[: Nx // 2] = 0.5\n",
    "h_x[Nx // 2 :] = 0.0\n",
    "\n",
    "tau_sf_inv = np.zeros((Nx), dtype=float)\n",
    "tau_so_inv = np.zeros((Nx), dtype=float)"
   ]
  },
  {
   "cell_type": "code",
   "execution_count": 3,
   "id": "32441110-a146-4e8d-aa95-db28d132dbd2",
   "metadata": {},
   "outputs": [],
   "source": [
    "do = DifferentialOperators()\n",
    "do.D_x = gradient(Nx, dx, boundary_condition=\"open\")\n",
    "do.D_y = np.zeros((Nx, Nx), dtype=float)\n",
    "do.D_z = np.zeros((Nx, Nx), dtype=float)\n",
    "do.L = laplacian(Nx, dx, boundary_condition=\"open\")\n",
    "\n",
    "D = 1.7655\n",
    "T = 0.2\n",
    "\n",
    "up = UsadelProblem(\n",
    "    Nsites=Nx,\n",
    "    diff_ops=do,\n",
    "    h_x=h_x,\n",
    "    h_y=h_y,\n",
    "    h_z=h_z,\n",
    "    tau_sf_inv=tau_sf_inv,\n",
    "    tau_so_inv=tau_so_inv,\n",
    "    D=D,\n",
    "    T=T,\n",
    "    Gamma=1e-3,\n",
    "    use_dense=False,\n",
    ")\n",
    "\n",
    "up.Delta = np.ones((Nx), dtype=float)\n",
    "up.Delta[: Nx // 2] = 1.764\n",
    "up.Delta[Nx // 2:] = 0"
   ]
  },
  {
   "cell_type": "code",
   "execution_count": 4,
   "id": "b84c4a5b-03cf-46ea-842d-1e437d8df261",
   "metadata": {},
   "outputs": [],
   "source": [
    "h_c0 = up.h_c0\n",
    "xi_00 = up.xi_00\n",
    "Delta_00 = up.Delta_00"
   ]
  },
  {
   "cell_type": "code",
   "execution_count": 5,
   "id": "c350657c-05b0-4cb7-a8d7-84ac0553dde0",
   "metadata": {
    "tags": []
   },
   "outputs": [
    {
     "data": {
      "text/plain": [
       "<matplotlib.legend.Legend at 0x7fa8974d88d0>"
      ]
     },
     "execution_count": 5,
     "metadata": {},
     "output_type": "execute_result"
    },
    {
     "data": {
      "image/png": "[encoded data removed]",
      "text/plain": [
       "<Figure size 432x288 with 1 Axes>"
      ]
     },
     "metadata": {
      "needs_background": "light"
     },
     "output_type": "display_data"
    }
   ],
   "source": [
    "fig, ax = plt.subplots()\n",
    "ax.hlines([h_c0, -h_c0], -6, 6, colors=\"k\", linestyles=\"--\", linewidth=1)\n",
    "ax.plot(x / xi_00, h_x, \"-\", label=r\"$h_x$\")\n",
    "ax.plot(x / xi_00, h_y, \"-\", label=r\"$h_y$\")\n",
    "ax.plot(x / xi_00, np.sqrt(h_x**2 + h_y**2), \"-\", label=r\"$|h|$\")\n",
    "ax.set_xlabel(r\"$x / \\xi_{00}$\")\n",
    "ax.legend()"
   ]
  },
  {
   "cell_type": "markdown",
   "id": "5a05ce71-fbef-4fe0-b998-4da333f792ca",
   "metadata": {
    "tags": []
   },
   "source": [
    "## Gap equation solver"
   ]
  },
  {
   "cell_type": "code",
   "execution_count": null,
   "id": "9c32b900-de38-4122-a74f-b8ba9c692110",
   "metadata": {},
   "outputs": [
    {
     "name": "stdout",
     "output_type": "stream",
     "text": [
      "  1    Max Delta: 1.764    Residual: 2.00e-02    Free energy: -2.06e+02\n",
      "  2    Max Delta: 1.764    Residual: 1.41e-02    Free energy: -2.19e+02\n",
      "  3    Max Delta: 1.763    Residual: 1.31e-02    Free energy: -2.26e+02\n",
      "  4    Max Delta: 1.763    Residual: 1.34e-02    Free energy: -2.32e+02\n",
      "  5    Max Delta: 1.763    Residual: 1.43e-02    Free energy: -2.38e+02\n",
      "  6    Max Delta: 1.762    Residual: 1.54e-02    Free energy: -2.44e+02\n",
      "  7    Max Delta: 1.762    Residual: 1.67e-02    Free energy: -2.50e+02\n",
      "  8    Max Delta: 1.762    Residual: 1.80e-02    Free energy: -2.56e+02\n",
      "  9    Max Delta: 1.762    Residual: 1.91e-02    Free energy: -2.63e+02\n",
      " 10    Max Delta: 1.762    Residual: 2.02e-02    Free energy: -2.70e+02\n",
      " 11    Max Delta: 1.762    Residual: 2.12e-02    Free energy: -2.78e+02\n",
      " 12    Max Delta: 1.762    Residual: 2.21e-02    Free energy: -2.86e+02\n",
      " 13    Max Delta: 1.762    Residual: 2.29e-02    Free energy: -2.94e+02\n",
      " 14    Max Delta: 1.762    Residual: 2.37e-02    Free energy: -3.03e+02\n",
      " 15    Max Delta: 1.762    Residual: 2.43e-02    Free energy: -3.13e+02\n",
      " 16    Max Delta: 1.762    Residual: 2.48e-02    Free energy: -3.22e+02\n",
      " 17    Max Delta: 1.762    Residual: 2.53e-02    Free energy: -3.32e+02\n",
      " 18    Max Delta: 1.762    Residual: 2.57e-02    Free energy: -3.43e+02\n",
      " 19    Max Delta: 1.762    Residual: 2.61e-02    Free energy: -3.54e+02\n",
      " 20    Max Delta: 1.762    Residual: 2.64e-02    Free energy: -3.66e+02\n",
      " 21    Max Delta: 1.762    Residual: 2.66e-02    Free energy: -3.78e+02\n",
      " 22    Max Delta: 1.762    Residual: 2.67e-02    Free energy: -3.91e+02\n",
      " 23    Max Delta: 1.762    Residual: 2.65e-02    Free energy: -4.05e+02\n"
     ]
    }
   ],
   "source": [
    "up.solve_self_consistent(verbose=True)"
   ]
  },
  {
   "cell_type": "code",
   "execution_count": null,
   "id": "92cccf24-20f6-47fe-9e41-8a39eb9f5b1a",
   "metadata": {},
   "outputs": [],
   "source": [
    "cc_idx = np.argsort(np.abs(np.abs(h_x) - h_c0))"
   ]
  },
  {
   "cell_type": "code",
   "execution_count": null,
   "id": "f9d05e25-28ed-4c91-baed-e63501963c0f",
   "metadata": {},
   "outputs": [],
   "source": [
    "fig, ax = plt.subplots()\n",
    "ax.plot(x / xi_00, up.Delta / Delta_00, \"-C0\", label=r\"$\\Delta$\")\n",
    "ax.set_ylabel(r\"$\\Delta / \\Delta_{00}$\")\n",
    "ax.vlines(x[cc_idx[0]] / xi_00, 0, 1, colors=\"k\", linestyles=\"--\", linewidth=0.5)\n",
    "# ax.vlines([x[cc_idx[1]]/xi_00], 0, 1, colors=\"-k\", linestyles=\"--\", linewidth=1)\n",
    "ax.plot(\n",
    "    x / xi_00,\n",
    "    up.Delta[Nx // 2 + 10] / Delta_00\n",
    "    + (np.diff(up.Delta / Delta_00) / (x[1] - x[0]))[Nx // 2 + 10]\n",
    "    * (x - x[Nx // 2 + 10]),\n",
    "    \"C0--\",\n",
    ")\n",
    "\n",
    "ax.set_ylim(-0.05, 1.05)\n",
    "ax.set_xlabel(r\"$x/\\xi_{00}$\")\n",
    "\n",
    "ax2 = ax.twinx()\n",
    "ax2.hlines([+h_c0], -6, 6, colors=\"k\", linestyles=\"--\", linewidth=0.5)\n",
    "# ax2.hlines([-h_c], -6, 6, colors=\"k\", linestyles=\"--\", linewidth=1)\n",
    "\n",
    "ax2.plot(x / xi_00, h_x, \"-C1\", label=r\"$h_x$\")\n",
    "ax2.plot(x / xi_00, h_y, \"-C2\", label=r\"$h_y$\")\n",
    "ax2.set_ylabel(r\"$h$\")\n",
    "\n",
    "ax.legend()\n",
    "ax2.legend()"
   ]
  },
  {
   "cell_type": "markdown",
   "id": "f1a79f0d-e956-4d7a-8a8d-db39b7d7e2e1",
   "metadata": {},
   "source": [
    "## Spectrum solver"
   ]
  },
  {
   "cell_type": "code",
   "execution_count": null,
   "id": "7d00bd07-b285-4353-bf24-28c828115b3b",
   "metadata": {},
   "outputs": [],
   "source": [
    "up.Gamma = 1e-3\n",
    "\n",
    "up.set_real_omega_ax(-3, 3, 101)\n",
    "up.solve_spectral(\n",
    "    gamma=0.5, tol=1e-6, max_iter=1000, print_exit_status=True,\n",
    ")"
   ]
  },
  {
   "cell_type": "code",
   "execution_count": null,
   "id": "e8d258df-9666-429e-937a-10ab0facf609",
   "metadata": {},
   "outputs": [],
   "source": [
    "omega_ax = up.get_omega_ax_r()\n",
    "DOS = up.get_dos()\n",
    "DOSu, DOSd = up.get_spin_resolved_dos(\"x\")"
   ]
  },
  {
   "cell_type": "code",
   "execution_count": null,
   "id": "8c31ad96-7df3-4d62-9f21-5b66c0978975",
   "metadata": {},
   "outputs": [],
   "source": [
    "fig, ax = plt.subplots(ncols=6, figsize=(6, 2), sharey=True)\n",
    "\n",
    "ax[0].plot(\n",
    "    DOS[:, Nx // 5 * 0 + 10],\n",
    "    omega_ax,\n",
    ")\n",
    "ax[1].plot(\n",
    "    DOS[:, Nx // 5 * 1],\n",
    "    omega_ax,\n",
    ")\n",
    "ax[2].plot(\n",
    "    DOS[:, Nx // 5 * 2],\n",
    "    omega_ax,\n",
    ")\n",
    "ax[3].plot(\n",
    "    DOS[:, Nx // 5 * 3],\n",
    "    omega_ax,\n",
    ")\n",
    "\n",
    "ax[4].plot(\n",
    "    DOS[:, Nx // 5 * 4],\n",
    "    omega_ax,\n",
    ")\n",
    "\n",
    "ax[5].plot(\n",
    "    DOS[:, -1],\n",
    "    omega_ax,\n",
    ")\n",
    "\n",
    "for sax in ax:\n",
    "    sax.set_xlim(-0.2, 5)\n",
    "\n",
    "\n",
    "fig.tight_layout()"
   ]
  },
  {
   "cell_type": "code",
   "execution_count": null,
   "id": "a98a7b00-fb44-417c-9152-cb595ca2adb9",
   "metadata": {},
   "outputs": [],
   "source": [
    "im = plt.contourf(\n",
    "    x, omega_ax, DOS, extend=\"both\", levels=np.linspace(0, 5, 100), cmap=\"Blues\"\n",
    ")\n",
    "plt.colorbar(im)"
   ]
  },
  {
   "cell_type": "code",
   "execution_count": null,
   "id": "ceacf972-0358-4cf1-8667-edbbe07ed513",
   "metadata": {},
   "outputs": [],
   "source": []
  }
 ],
 "metadata": {
  "kernelspec": {
   "display_name": "Python [conda env:qenv311] *",
   "language": "python",
   "name": "conda-env-qenv311-py"
  },
  "language_info": {
   "codemirror_mode": {
    "name": "ipython",
    "version": 3
   },
   "file_extension": ".py",
   "mimetype": "text/x-python",
   "name": "python",
   "nbconvert_exporter": "python",
   "pygments_lexer": "ipython3",
   "version": "3.11.0"
  }
 },
 "nbformat": 4,
 "nbformat_minor": 5
}
