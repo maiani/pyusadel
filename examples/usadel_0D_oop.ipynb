{
 "cells": [
  {
   "cell_type": "code",
   "execution_count": 1,
   "id": "1e184f36-bc7d-40dd-a2f3-2226a4ae24a8",
   "metadata": {},
   "outputs": [],
   "source": [
    "import matplotlib.pyplot as plt\n",
    "import numpy as np"
   ]
  },
  {
   "cell_type": "code",
   "execution_count": 2,
   "id": "baf14286-cad5-40b7-a5a3-382d24c717d5",
   "metadata": {},
   "outputs": [],
   "source": [
    "from pyusadel import (\n",
    "    DifferentialOperators,\n",
    "    UsadelProblem,\n",
    ")"
   ]
  },
  {
   "cell_type": "code",
   "execution_count": 5,
   "id": "e23f7b25-6928-4591-84b0-9b54af7576f0",
   "metadata": {},
   "outputs": [],
   "source": [
    "# The system is homogeneous in space, so it has only one site\n",
    "Nsites = 1                                   \n",
    "\n",
    "# The system is homogeneous in space, so the differential operators are trivial null matrices\n",
    "do = DifferentialOperators()                 \n",
    "do.D_x = np.zeros((1, 1), dtype=float)\n",
    "do.D_y = np.zeros((1, 1), dtype=float)\n",
    "do.D_z = np.zeros((1, 1), dtype=float)\n",
    "do.L = np.zeros((1, 1), dtype=float)\n",
    "\n",
    "# Define the parameters of the problem\n",
    "h_x = np.array([0.1])\n",
    "h_y = np.array([0])\n",
    "h_z = np.array([0])\n",
    "tau_sf_inv = np.array([0.0])\n",
    "tau_so_inv = np.array([0])\n",
    "D = 0\n",
    "T = 0.2\n",
    "\n",
    "# Setup the Usadel problem\n",
    "up = UsadelProblem(\n",
    "    Nsites=1,\n",
    "    diff_ops=do,\n",
    "    h_x=h_x,\n",
    "    h_y=h_y,\n",
    "    h_z=h_z,\n",
    "    tau_sf_inv=tau_sf_inv,\n",
    "    tau_so_inv=tau_so_inv,\n",
    "    D=D,\n",
    "    T=T,\n",
    "    Gamma=0.1\n",
    ")\n",
    "\n",
    "# Define the pairing potential Delta, this can be interpeted as a parameter or as an initial guess for the self-consistent calculation \n",
    "up.Delta = np.array([1.76])"
   ]
  },
  {
   "cell_type": "code",
   "execution_count": 8,
   "id": "da74d566-0b5e-4935-9a6f-086505812a65",
   "metadata": {},
   "outputs": [
    {
     "name": "stdout",
     "output_type": "stream",
     "text": [
      "  1    Max Delta: 1.740    Residual: 1.13e-02    Free energy: -1.41e+00\n",
      "  2    Max Delta: 1.725    Residual: 9.14e-03    Free energy: -1.41e+00\n",
      "  3    Max Delta: 1.712    Residual: 7.39e-03    Free energy: -1.40e+00\n",
      "  4    Max Delta: 1.702    Residual: 5.99e-03    Free energy: -1.40e+00\n",
      "  5    Max Delta: 1.694    Residual: 4.85e-03    Free energy: -1.40e+00\n",
      "  6    Max Delta: 1.687    Residual: 3.93e-03    Free energy: -1.40e+00\n",
      "  7    Max Delta: 1.682    Residual: 3.19e-03    Free energy: -1.40e+00\n",
      "  8    Max Delta: 1.677    Residual: 2.59e-03    Free energy: -1.40e+00\n",
      "  9    Max Delta: 1.674    Residual: 2.10e-03    Free energy: -1.40e+00\n",
      " 10    Max Delta: 1.671    Residual: 1.70e-03    Free energy: -1.40e+00\n",
      " 11    Max Delta: 1.669    Residual: 1.38e-03    Free energy: -1.40e+00\n",
      " 12    Max Delta: 1.667    Residual: 1.12e-03    Free energy: -1.40e+00\n",
      " 13    Max Delta: 1.665    Residual: 9.10e-04    Free energy: -1.40e+00\n",
      " 14    Max Delta: 1.664    Residual: 7.39e-04    Free energy: -1.40e+00\n",
      " 15    Max Delta: 1.663    Residual: 6.00e-04    Free energy: -1.39e+00\n",
      " 16    Max Delta: 1.662    Residual: 4.87e-04    Free energy: -1.39e+00\n",
      " 17    Max Delta: 1.661    Residual: 3.96e-04    Free energy: -1.39e+00\n",
      " 18    Max Delta: 1.661    Residual: 3.21e-04    Free energy: -1.39e+00\n",
      " 19    Max Delta: 1.660    Residual: 2.61e-04    Free energy: -1.39e+00\n",
      " 20    Max Delta: 1.660    Residual: 2.12e-04    Free energy: -1.39e+00\n",
      " 21    Max Delta: 1.660    Residual: 1.72e-04    Free energy: -1.39e+00\n",
      " 22    Max Delta: 1.660    Residual: 1.40e-04    Free energy: -1.39e+00\n",
      " 23    Max Delta: 1.659    Residual: 1.13e-04    Free energy: -1.39e+00\n",
      " 24    Max Delta: 1.659    Residual: 9.22e-05    Free energy: -1.39e+00\n",
      " 25    Max Delta: 1.659    Residual: 7.49e-05    Free energy: -1.39e+00\n",
      " 26    Max Delta: 1.659    Residual: 6.08e-05    Free energy: -1.39e+00\n",
      " 27    Max Delta: 1.659    Residual: 4.94e-05    Free energy: -1.39e+00\n",
      " 28    Max Delta: 1.659    Residual: 4.01e-05    Free energy: -1.39e+00\n",
      " 29    Max Delta: 1.659    Residual: 3.26e-05    Free energy: -1.39e+00\n",
      " 30    Max Delta: 1.659    Residual: 2.64e-05    Free energy: -1.39e+00\n",
      " 31    Max Delta: 1.659    Residual: 2.15e-05    Free energy: -1.39e+00\n",
      " 32    Max Delta: 1.659    Residual: 1.74e-05    Free energy: -1.39e+00\n",
      " 33    Max Delta: 1.659    Residual: 1.42e-05    Free energy: -1.39e+00\n",
      " 34    Max Delta: 1.659    Residual: 1.15e-05    Free energy: -1.39e+00\n",
      " 35    Max Delta: 1.659    Residual: 9.35e-06    Free energy: -1.39e+00\n",
      " 36    Max Delta: 1.659    Residual: 7.59e-06    Free energy: -1.39e+00\n",
      " 37    Max Delta: 1.659    Residual: 6.17e-06    Free energy: -1.39e+00\n",
      " 38    Max Delta: 1.659    Residual: 5.01e-06    Free energy: -1.39e+00\n",
      " 39    Max Delta: 1.659    Residual: 4.07e-06    Free energy: -1.39e+00\n",
      " 40    Max Delta: 1.659    Residual: 3.30e-06    Free energy: -1.39e+00\n",
      " 41    Max Delta: 1.659    Residual: 2.68e-06    Free energy: -1.39e+00\n",
      " 42    Max Delta: 1.659    Residual: 2.18e-06    Free energy: -1.39e+00\n",
      " 43    Max Delta: 1.659    Residual: 1.77e-06    Free energy: -1.39e+00\n",
      " 44    Max Delta: 1.659    Residual: 1.44e-06    Free energy: -1.39e+00\n",
      " 45    Max Delta: 1.659    Residual: 1.17e-06    Free energy: -1.39e+00\n",
      " 46    Max Delta: 1.659    Residual: 9.48e-07    Free energy: -1.39e+00\n",
      "Converged in 46 iterations\n"
     ]
    }
   ],
   "source": [
    "# Execute a self-consistent calculation to determine the gap Delta\n",
    "up.solve_self_consistent() "
   ]
  },
  {
   "cell_type": "code",
   "execution_count": 9,
   "id": "d3a35b5d-3959-4e99-bef1-382e7ff04894",
   "metadata": {},
   "outputs": [],
   "source": [
    "# Solve for the spectral quantities, first define an energy axis then execute the calculation\n",
    "up.set_real_omega_ax(-5, 5, 101)\n",
    "up.solve_spectral()"
   ]
  },
  {
   "cell_type": "code",
   "execution_count": 10,
   "id": "c3e5254c-58a2-4923-a77b-550f8d8f1d30",
   "metadata": {},
   "outputs": [
    {
     "data": {
      "text/plain": [
       "<matplotlib.legend.Legend at 0x7fffb87fa3b0>"
      ]
     },
     "execution_count": 10,
     "metadata": {},
     "output_type": "execute_result"
    },
    {
     "data": {
      "image/png": "[encoded data removed]",
      "text/plain": [
       "<Figure size 432x288 with 1 Axes>"
      ]
     },
     "metadata": {
      "needs_background": "light"
     },
     "output_type": "display_data"
    }
   ],
   "source": [
    "fig, ax = plt.subplots()\n",
    "ax.plot(up.get_omega_ax_r(), up.get_dos(), label=\"DOS\")\n",
    "ax.plot(up.get_omega_ax_r(), up.get_spin_resolved_dos(\"x\")[0], label=\"DOSu\")\n",
    "ax.plot(up.get_omega_ax_r(), up.get_spin_resolved_dos(\"x\")[1], label=\"DOSd\")\n",
    "ax.legend()"
   ]
  },
  {
   "cell_type": "code",
   "execution_count": 11,
   "id": "fe08bb3d-6262-4775-8e17-2e982e903645",
   "metadata": {},
   "outputs": [
    {
     "data": {
      "text/plain": [
       "<matplotlib.legend.Legend at 0x7fffb841d6f0>"
      ]
     },
     "execution_count": 11,
     "metadata": {},
     "output_type": "execute_result"
    },
    {
     "data": {
      "image/png": "[encoded data removed]",
      "text/plain": [
       "<Figure size 432x288 with 1 Axes>"
      ]
     },
     "metadata": {
      "needs_background": "light"
     },
     "output_type": "display_data"
    }
   ],
   "source": [
    "fig, ax = plt.subplots()\n",
    "ax.plot(up.get_omega_ax_r(), up.get_pairing_amplitudes()[0], label=\"$\\Delta_{0}$\")\n",
    "ax.plot(up.get_omega_ax_r(), up.get_pairing_amplitudes()[1], label=\"$\\Delta_{x}$\")\n",
    "ax.plot(up.get_omega_ax_r(), up.get_pairing_amplitudes()[2], label=\"$\\Delta_{y}$\")\n",
    "ax.plot(up.get_omega_ax_r(), up.get_pairing_amplitudes()[3], label=\"$\\Delta_{z}$\")\n",
    "ax.legend()"
   ]
  },
  {
   "cell_type": "code",
   "execution_count": null,
   "id": "ed809494-077e-4b28-980a-4f788e3a3c5d",
   "metadata": {},
   "outputs": [],
   "source": []
  },
  {
   "cell_type": "code",
   "execution_count": null,
   "id": "49093eb9-cb13-42a6-b97e-9cc9075bcdd2",
   "metadata": {},
   "outputs": [],
   "source": []
  }
 ],
 "metadata": {
  "kernelspec": {
   "display_name": "Python [conda env:qenv310]",
   "language": "python",
   "name": "conda-env-qenv310-py"
  },
  "language_info": {
   "codemirror_mode": {
    "name": "ipython",
    "version": 3
   },
   "file_extension": ".py",
   "mimetype": "text/x-python",
   "name": "python",
   "nbconvert_exporter": "python",
   "pygments_lexer": "ipython3",
   "version": "3.10.4"
  }
 },
 "nbformat": 4,
 "nbformat_minor": 5
}
