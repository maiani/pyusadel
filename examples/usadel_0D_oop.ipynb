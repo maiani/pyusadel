{
 "cells": [
  {
   "cell_type": "code",
   "execution_count": 1,
   "id": "1e184f36-bc7d-40dd-a2f3-2226a4ae24a8",
   "metadata": {},
   "outputs": [],
   "source": [
    "import matplotlib\n",
    "import matplotlib.pyplot as plt\n",
    "import numpy as np\n",
    "import scipy.linalg as la\n",
    "from scipy import sparse\n",
    "from scipy.sparse import linalg as sla\n",
    "from tqdm.notebook import tqdm"
   ]
  },
  {
   "cell_type": "code",
   "execution_count": 2,
   "id": "baf14286-cad5-40b7-a5a3-382d24c717d5",
   "metadata": {},
   "outputs": [],
   "source": [
    "from pyusadel import (\n",
    "    DifferentialOperators,\n",
    "    UsadelProblem,\n",
    "    gen_assemble_fun,\n",
    "    solve_usadel,\n",
    "    solve_usadel_self_consistent,\n",
    ")"
   ]
  },
  {
   "cell_type": "code",
   "execution_count": 10,
   "id": "e23f7b25-6928-4591-84b0-9b54af7576f0",
   "metadata": {},
   "outputs": [],
   "source": [
    "Nsites = 1\n",
    "do = DifferentialOperators()\n",
    "do.D_x = np.zeros((1, 1), dtype=float)\n",
    "do.D_y = np.zeros((1, 1), dtype=float)\n",
    "do.D_z = np.zeros((1, 1), dtype=float)\n",
    "do.L = np.zeros((1, 1), dtype=float)\n",
    "\n",
    "h_x = np.array([0.2])\n",
    "h_y = np.array([0])\n",
    "tau_sf_inv = np.array([0.0])\n",
    "tau_so_inv = np.array([0])\n",
    "D = 0\n",
    "T = 0.2\n",
    "\n",
    "up = UsadelProblem(\n",
    "    Nsites=1,\n",
    "    diff_ops=do,\n",
    "    h_x=h_x,\n",
    "    h_y=h_y,\n",
    "    tau_sf_inv=tau_sf_inv,\n",
    "    tau_so_inv=tau_so_inv,\n",
    "    D=D,\n",
    "    T=T,\n",
    ")\n",
    "\n",
    "up.Delta = np.array([1])"
   ]
  },
  {
   "cell_type": "code",
   "execution_count": 11,
   "id": "da74d566-0b5e-4935-9a6f-086505812a65",
   "metadata": {},
   "outputs": [
    {
     "name": "stdout",
     "output_type": "stream",
     "text": [
      "  1    Max Delta: 1.112    Residual: 1.01e-01    Free energy: -9.63e-01\n",
      "  2    Max Delta: 1.214    Residual: 8.41e-02    Free energy: -1.07e+00\n",
      "  3    Max Delta: 1.305    Residual: 6.94e-02    Free energy: -1.16e+00\n",
      "  4    Max Delta: 1.384    Residual: 5.69e-02    Free energy: -1.22e+00\n",
      "  5    Max Delta: 1.451    Residual: 4.64e-02    Free energy: -1.27e+00\n",
      "  6    Max Delta: 1.508    Residual: 3.77e-02    Free energy: -1.31e+00\n",
      "  7    Max Delta: 1.555    Residual: 3.05e-02    Free energy: -1.33e+00\n",
      "  8    Max Delta: 1.595    Residual: 2.47e-02    Free energy: -1.35e+00\n",
      "  9    Max Delta: 1.627    Residual: 1.99e-02    Free energy: -1.36e+00\n",
      " 10    Max Delta: 1.653    Residual: 1.60e-02    Free energy: -1.37e+00\n",
      " 11    Max Delta: 1.675    Residual: 1.28e-02    Free energy: -1.37e+00\n",
      " 12    Max Delta: 1.692    Residual: 1.03e-02    Free energy: -1.38e+00\n",
      " 13    Max Delta: 1.706    Residual: 8.25e-03    Free energy: -1.38e+00\n",
      " 14    Max Delta: 1.718    Residual: 6.61e-03    Free energy: -1.38e+00\n",
      " 15    Max Delta: 1.727    Residual: 5.29e-03    Free energy: -1.38e+00\n",
      " 16    Max Delta: 1.734    Residual: 4.23e-03    Free energy: -1.38e+00\n",
      " 17    Max Delta: 1.740    Residual: 3.39e-03    Free energy: -1.38e+00\n",
      " 18    Max Delta: 1.745    Residual: 2.71e-03    Free energy: -1.38e+00\n",
      " 19    Max Delta: 1.749    Residual: 2.17e-03    Free energy: -1.38e+00\n",
      " 20    Max Delta: 1.752    Residual: 1.73e-03    Free energy: -1.38e+00\n",
      " 21    Max Delta: 1.754    Residual: 1.38e-03    Free energy: -1.38e+00\n",
      " 22    Max Delta: 1.756    Residual: 1.11e-03    Free energy: -1.38e+00\n",
      " 23    Max Delta: 1.757    Residual: 8.83e-04    Free energy: -1.38e+00\n",
      " 24    Max Delta: 1.759    Residual: 7.06e-04    Free energy: -1.38e+00\n",
      " 25    Max Delta: 1.760    Residual: 5.64e-04    Free energy: -1.38e+00\n",
      " 26    Max Delta: 1.760    Residual: 4.50e-04    Free energy: -1.38e+00\n",
      " 27    Max Delta: 1.761    Residual: 3.60e-04    Free energy: -1.38e+00\n",
      " 28    Max Delta: 1.762    Residual: 2.87e-04    Free energy: -1.38e+00\n",
      " 29    Max Delta: 1.762    Residual: 2.30e-04    Free energy: -1.38e+00\n",
      " 30    Max Delta: 1.762    Residual: 1.83e-04    Free energy: -1.38e+00\n",
      " 31    Max Delta: 1.763    Residual: 1.46e-04    Free energy: -1.38e+00\n",
      " 32    Max Delta: 1.763    Residual: 1.17e-04    Free energy: -1.38e+00\n",
      " 33    Max Delta: 1.763    Residual: 9.35e-05    Free energy: -1.38e+00\n",
      " 34    Max Delta: 1.763    Residual: 7.47e-05    Free energy: -1.38e+00\n",
      " 35    Max Delta: 1.763    Residual: 5.96e-05    Free energy: -1.38e+00\n",
      " 36    Max Delta: 1.763    Residual: 4.76e-05    Free energy: -1.38e+00\n",
      " 37    Max Delta: 1.763    Residual: 3.80e-05    Free energy: -1.38e+00\n",
      " 38    Max Delta: 1.763    Residual: 3.04e-05    Free energy: -1.38e+00\n",
      " 39    Max Delta: 1.763    Residual: 2.43e-05    Free energy: -1.38e+00\n",
      " 40    Max Delta: 1.763    Residual: 1.94e-05    Free energy: -1.38e+00\n",
      " 41    Max Delta: 1.764    Residual: 1.55e-05    Free energy: -1.38e+00\n",
      " 42    Max Delta: 1.764    Residual: 1.24e-05    Free energy: -1.38e+00\n",
      " 43    Max Delta: 1.764    Residual: 9.88e-06    Free energy: -1.38e+00\n",
      " 44    Max Delta: 1.764    Residual: 7.89e-06    Free energy: -1.38e+00\n",
      " 45    Max Delta: 1.764    Residual: 6.30e-06    Free energy: -1.38e+00\n",
      " 46    Max Delta: 1.764    Residual: 5.03e-06    Free energy: -1.38e+00\n",
      " 47    Max Delta: 1.764    Residual: 4.02e-06    Free energy: -1.38e+00\n",
      " 48    Max Delta: 1.764    Residual: 3.21e-06    Free energy: -1.38e+00\n",
      " 49    Max Delta: 1.764    Residual: 2.57e-06    Free energy: -1.38e+00\n",
      " 50    Max Delta: 1.764    Residual: 2.05e-06    Free energy: -1.38e+00\n",
      " 51    Max Delta: 1.764    Residual: 1.64e-06    Free energy: -1.38e+00\n",
      " 52    Max Delta: 1.764    Residual: 1.31e-06    Free energy: -1.38e+00\n",
      " 53    Max Delta: 1.764    Residual: 1.04e-06    Free energy: -1.38e+00\n",
      " 54    Max Delta: 1.764    Residual: 8.34e-07    Free energy: -1.38e+00\n",
      "Converged in 54 iterations\n"
     ]
    }
   ],
   "source": [
    "up.solve_self_consistent()"
   ]
  },
  {
   "cell_type": "code",
   "execution_count": 13,
   "id": "d3a35b5d-3959-4e99-bef1-382e7ff04894",
   "metadata": {},
   "outputs": [],
   "source": [
    "up.set_real_omega_ax(-3, 3, 101)\n",
    "up.solve_spectral()"
   ]
  },
  {
   "cell_type": "code",
   "execution_count": 16,
   "id": "c3e5254c-58a2-4923-a77b-550f8d8f1d30",
   "metadata": {},
   "outputs": [
    {
     "data": {
      "text/plain": [
       "[<matplotlib.lines.Line2D at 0x7fffa07a1fc0>]"
      ]
     },
     "execution_count": 16,
     "metadata": {},
     "output_type": "execute_result"
    },
    {
     "data": {
      "image/png": "[encoded data removed]",
      "text/plain": [
       "<Figure size 432x288 with 1 Axes>"
      ]
     },
     "metadata": {
      "needs_background": "light"
     },
     "output_type": "display_data"
    }
   ],
   "source": [
    "plt.plot(problem.get_omega_ax_r(), up.get_dos())\n",
    "plt.plot(problem.get_omega_ax_r(), up.get_spin_resolved_dos(\"x\")[0])\n",
    "plt.plot(problem.get_omega_ax_r(), up.get_spin_resolved_dos(\"x\")[1])"
   ]
  },
  {
   "cell_type": "code",
   "execution_count": null,
   "id": "99f0bcbc-0b30-43b4-9189-25e65186e205",
   "metadata": {},
   "outputs": [],
   "source": []
  }
 ],
 "metadata": {
  "kernelspec": {
   "display_name": "Python [conda env:qenv310]",
   "language": "python",
   "name": "conda-env-qenv310-py"
  },
  "language_info": {
   "codemirror_mode": {
    "name": "ipython",
    "version": 3
   },
   "file_extension": ".py",
   "mimetype": "text/x-python",
   "name": "python",
   "nbconvert_exporter": "python",
   "pygments_lexer": "ipython3",
   "version": "3.10.4"
  }
 },
 "nbformat": 4,
 "nbformat_minor": 5
}
