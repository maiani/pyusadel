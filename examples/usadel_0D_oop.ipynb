{
 "cells": [
  {
   "cell_type": "code",
   "execution_count": 1,
   "id": "1e184f36-bc7d-40dd-a2f3-2226a4ae24a8",
   "metadata": {},
   "outputs": [],
   "source": [
    "import matplotlib\n",
    "import matplotlib.pyplot as plt\n",
    "import numpy as np\n",
    "import scipy.linalg as la\n",
    "from scipy import sparse\n",
    "from scipy.sparse import linalg as sla\n",
    "from tqdm.notebook import tqdm"
   ]
  },
  {
   "cell_type": "code",
   "execution_count": 2,
   "id": "baf14286-cad5-40b7-a5a3-382d24c717d5",
   "metadata": {},
   "outputs": [],
   "source": [
    "from pyusadel import (\n",
    "    DifferentialOperators,\n",
    "    UsadelProblem,\n",
    ")"
   ]
  },
  {
   "cell_type": "code",
   "execution_count": 3,
   "id": "e23f7b25-6928-4591-84b0-9b54af7576f0",
   "metadata": {},
   "outputs": [],
   "source": [
    "Nsites = 1\n",
    "\n",
    "do = DifferentialOperators()\n",
    "do.D_x = np.zeros((1, 1), dtype=float)\n",
    "do.D_y = np.zeros((1, 1), dtype=float)\n",
    "do.D_z = np.zeros((1, 1), dtype=float)\n",
    "do.L = np.zeros((1, 1), dtype=float)\n",
    "\n",
    "h_x = np.array([0.1])\n",
    "h_y = np.array([0])\n",
    "h_z = np.array([0])\n",
    "tau_sf_inv = np.array([0.0])\n",
    "tau_so_inv = np.array([0])\n",
    "D = 0\n",
    "T = 0.2\n",
    "\n",
    "up = UsadelProblem(\n",
    "    Nsites=1,\n",
    "    diff_ops=do,\n",
    "    h_x=h_x,\n",
    "    h_y=h_y,\n",
    "    h_z=h_z,\n",
    "    tau_sf_inv=tau_sf_inv,\n",
    "    tau_so_inv=tau_so_inv,\n",
    "    D=D,\n",
    "    T=T,\n",
    ")\n",
    "\n",
    "up.Delta = np.array([1])"
   ]
  },
  {
   "cell_type": "code",
   "execution_count": 4,
   "id": "da74d566-0b5e-4935-9a6f-086505812a65",
   "metadata": {},
   "outputs": [
    {
     "name": "stdout",
     "output_type": "stream",
     "text": [
      "  1    Max Delta: 1.113    Residual: 1.01e-01    Free energy: -9.93e-01\n",
      "  2    Max Delta: 1.215    Residual: 8.42e-02    Free energy: -1.10e+00\n",
      "  3    Max Delta: 1.306    Residual: 6.94e-02    Free energy: -1.19e+00\n",
      "  4    Max Delta: 1.385    Residual: 5.69e-02    Free energy: -1.26e+00\n",
      "  5    Max Delta: 1.452    Residual: 4.64e-02    Free energy: -1.30e+00\n",
      "  6    Max Delta: 1.509    Residual: 3.76e-02    Free energy: -1.34e+00\n",
      "  7    Max Delta: 1.556    Residual: 3.05e-02    Free energy: -1.36e+00\n",
      "  8    Max Delta: 1.595    Residual: 2.46e-02    Free energy: -1.38e+00\n",
      "  9    Max Delta: 1.628    Residual: 1.98e-02    Free energy: -1.39e+00\n",
      " 10    Max Delta: 1.654    Residual: 1.59e-02    Free energy: -1.40e+00\n",
      " 11    Max Delta: 1.675    Residual: 1.28e-02    Free energy: -1.40e+00\n",
      " 12    Max Delta: 1.693    Residual: 1.03e-02    Free energy: -1.41e+00\n",
      " 13    Max Delta: 1.707    Residual: 8.22e-03    Free energy: -1.41e+00\n",
      " 14    Max Delta: 1.718    Residual: 6.58e-03    Free energy: -1.41e+00\n",
      " 15    Max Delta: 1.727    Residual: 5.27e-03    Free energy: -1.41e+00\n",
      " 16    Max Delta: 1.734    Residual: 4.21e-03    Free energy: -1.41e+00\n",
      " 17    Max Delta: 1.740    Residual: 3.37e-03    Free energy: -1.41e+00\n",
      " 18    Max Delta: 1.745    Residual: 2.70e-03    Free energy: -1.41e+00\n",
      " 19    Max Delta: 1.749    Residual: 2.15e-03    Free energy: -1.41e+00\n",
      " 20    Max Delta: 1.752    Residual: 1.72e-03    Free energy: -1.41e+00\n",
      " 21    Max Delta: 1.754    Residual: 1.38e-03    Free energy: -1.41e+00\n",
      " 22    Max Delta: 1.756    Residual: 1.10e-03    Free energy: -1.41e+00\n",
      " 23    Max Delta: 1.758    Residual: 8.78e-04    Free energy: -1.41e+00\n",
      " 24    Max Delta: 1.759    Residual: 7.02e-04    Free energy: -1.41e+00\n",
      " 25    Max Delta: 1.760    Residual: 5.61e-04    Free energy: -1.41e+00\n",
      " 26    Max Delta: 1.761    Residual: 4.48e-04    Free energy: -1.41e+00\n",
      " 27    Max Delta: 1.761    Residual: 3.58e-04    Free energy: -1.41e+00\n",
      " 28    Max Delta: 1.762    Residual: 2.86e-04    Free energy: -1.41e+00\n",
      " 29    Max Delta: 1.762    Residual: 2.28e-04    Free energy: -1.41e+00\n",
      " 30    Max Delta: 1.762    Residual: 1.82e-04    Free energy: -1.41e+00\n",
      " 31    Max Delta: 1.763    Residual: 1.46e-04    Free energy: -1.41e+00\n",
      " 32    Max Delta: 1.763    Residual: 1.16e-04    Free energy: -1.41e+00\n",
      " 33    Max Delta: 1.763    Residual: 9.28e-05    Free energy: -1.41e+00\n",
      " 34    Max Delta: 1.763    Residual: 7.41e-05    Free energy: -1.41e+00\n",
      " 35    Max Delta: 1.763    Residual: 5.92e-05    Free energy: -1.41e+00\n",
      " 36    Max Delta: 1.763    Residual: 4.73e-05    Free energy: -1.41e+00\n",
      " 37    Max Delta: 1.763    Residual: 3.78e-05    Free energy: -1.41e+00\n",
      " 38    Max Delta: 1.764    Residual: 3.02e-05    Free energy: -1.41e+00\n",
      " 39    Max Delta: 1.764    Residual: 2.41e-05    Free energy: -1.41e+00\n",
      " 40    Max Delta: 1.764    Residual: 1.92e-05    Free energy: -1.41e+00\n",
      " 41    Max Delta: 1.764    Residual: 1.54e-05    Free energy: -1.41e+00\n",
      " 42    Max Delta: 1.764    Residual: 1.23e-05    Free energy: -1.41e+00\n",
      " 43    Max Delta: 1.764    Residual: 9.80e-06    Free energy: -1.41e+00\n",
      " 44    Max Delta: 1.764    Residual: 7.83e-06    Free energy: -1.41e+00\n",
      " 45    Max Delta: 1.764    Residual: 6.25e-06    Free energy: -1.41e+00\n",
      " 46    Max Delta: 1.764    Residual: 4.99e-06    Free energy: -1.41e+00\n",
      " 47    Max Delta: 1.764    Residual: 3.99e-06    Free energy: -1.41e+00\n",
      " 48    Max Delta: 1.764    Residual: 3.18e-06    Free energy: -1.41e+00\n",
      " 49    Max Delta: 1.764    Residual: 2.54e-06    Free energy: -1.41e+00\n",
      " 50    Max Delta: 1.764    Residual: 2.03e-06    Free energy: -1.41e+00\n",
      " 51    Max Delta: 1.764    Residual: 1.62e-06    Free energy: -1.41e+00\n",
      " 52    Max Delta: 1.764    Residual: 1.30e-06    Free energy: -1.41e+00\n",
      " 53    Max Delta: 1.764    Residual: 1.03e-06    Free energy: -1.41e+00\n",
      " 54    Max Delta: 1.764    Residual: 8.26e-07    Free energy: -1.41e+00\n",
      "Converged in 54 iterations\n"
     ]
    }
   ],
   "source": [
    "up.solve_self_consistent()"
   ]
  },
  {
   "cell_type": "code",
   "execution_count": 5,
   "id": "d3a35b5d-3959-4e99-bef1-382e7ff04894",
   "metadata": {},
   "outputs": [],
   "source": [
    "up.set_real_omega_ax(-3, 3, 101)\n",
    "up.solve_spectral()"
   ]
  },
  {
   "cell_type": "code",
   "execution_count": 6,
   "id": "c3e5254c-58a2-4923-a77b-550f8d8f1d30",
   "metadata": {},
   "outputs": [
    {
     "data": {
      "text/plain": [
       "[<matplotlib.lines.Line2D at 0x7fffb9688610>]"
      ]
     },
     "execution_count": 6,
     "metadata": {},
     "output_type": "execute_result"
    },
    {
     "data": {
      "image/png": "[encoded data removed]",
      "text/plain": [
       "<Figure size 432x288 with 1 Axes>"
      ]
     },
     "metadata": {
      "needs_background": "light"
     },
     "output_type": "display_data"
    }
   ],
   "source": [
    "plt.plot(up.get_omega_ax_r(), up.get_dos())\n",
    "plt.plot(up.get_omega_ax_r(), up.get_spin_resolved_dos(\"x\")[0])\n",
    "plt.plot(up.get_omega_ax_r(), up.get_spin_resolved_dos(\"x\")[1])"
   ]
  },
  {
   "cell_type": "code",
   "execution_count": null,
   "id": "fe08bb3d-6262-4775-8e17-2e982e903645",
   "metadata": {},
   "outputs": [],
   "source": []
  }
 ],
 "metadata": {
  "kernelspec": {
   "display_name": "Python [conda env:qenv310]",
   "language": "python",
   "name": "conda-env-qenv310-py"
  },
  "language_info": {
   "codemirror_mode": {
    "name": "ipython",
    "version": 3
   },
   "file_extension": ".py",
   "mimetype": "text/x-python",
   "name": "python",
   "nbconvert_exporter": "python",
   "pygments_lexer": "ipython3",
   "version": "3.10.4"
  }
 },
 "nbformat": 4,
 "nbformat_minor": 5
}
