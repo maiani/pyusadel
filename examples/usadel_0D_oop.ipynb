{
 "cells": [
  {
   "cell_type": "code",
   "execution_count": 1,
   "id": "1e184f36-bc7d-40dd-a2f3-2226a4ae24a8",
   "metadata": {},
   "outputs": [],
   "source": [
    "import matplotlib.pyplot as plt\n",
    "import numpy as np"
   ]
  },
  {
   "cell_type": "code",
   "execution_count": 2,
   "id": "baf14286-cad5-40b7-a5a3-382d24c717d5",
   "metadata": {},
   "outputs": [],
   "source": [
    "from pyusadel import (\n",
    "    DifferentialOperators,\n",
    "    UsadelProblem,\n",
    ")"
   ]
  },
  {
   "cell_type": "code",
   "execution_count": 3,
   "id": "e23f7b25-6928-4591-84b0-9b54af7576f0",
   "metadata": {},
   "outputs": [],
   "source": [
    "# The system is homogeneous in space, so it has only one site\n",
    "Nsites = 1                                   \n",
    "\n",
    "# The system is homogeneous in space, so the differential operators are trivial null matrices\n",
    "do = DifferentialOperators()                 \n",
    "do.D_x = np.zeros((1, 1), dtype=float)\n",
    "do.D_y = np.zeros((1, 1), dtype=float)\n",
    "do.D_z = np.zeros((1, 1), dtype=float)\n",
    "do.L = np.zeros((1, 1), dtype=float)\n",
    "\n",
    "# Define the parameters of the problem\n",
    "h_x = np.array([0.1])\n",
    "h_y = np.array([0])\n",
    "h_z = np.array([0])\n",
    "tau_sf_inv = np.array([0.0])\n",
    "tau_so_inv = np.array([0])\n",
    "D = 0\n",
    "T = 0.2\n",
    "\n",
    "# Setup the Usadel problem\n",
    "up = UsadelProblem(\n",
    "    Nsites=1,\n",
    "    diff_ops=do,\n",
    "    h_x=h_x,\n",
    "    h_y=h_y,\n",
    "    h_z=h_z,\n",
    "    tau_sf_inv=tau_sf_inv,\n",
    "    tau_so_inv=tau_so_inv,\n",
    "    D=D,\n",
    "    T=T,\n",
    "    Gamma=0.0\n",
    ")\n",
    "\n",
    "# Define the pairing potential Delta, this can be interpeted as a parameter or as an initial guess for the self-consistent calculation \n",
    "up.Delta = np.array([1.76])"
   ]
  },
  {
   "cell_type": "code",
   "execution_count": 4,
   "id": "da74d566-0b5e-4935-9a6f-086505812a65",
   "metadata": {},
   "outputs": [
    {
     "name": "stdout",
     "output_type": "stream",
     "text": [
      "  1    Max Delta: 1.761    Residual: 4.25e-04    Free energy: -1.41e+00\n",
      "  2    Max Delta: 1.761    Residual: 3.39e-04    Free energy: -1.41e+00\n",
      "  3    Max Delta: 1.762    Residual: 2.71e-04    Free energy: -1.41e+00\n",
      "  4    Max Delta: 1.762    Residual: 2.17e-04    Free energy: -1.41e+00\n",
      "  5    Max Delta: 1.763    Residual: 1.73e-04    Free energy: -1.41e+00\n",
      "  6    Max Delta: 1.763    Residual: 1.38e-04    Free energy: -1.41e+00\n",
      "  7    Max Delta: 1.763    Residual: 1.10e-04    Free energy: -1.41e+00\n",
      "  8    Max Delta: 1.763    Residual: 8.81e-05    Free energy: -1.41e+00\n",
      "  9    Max Delta: 1.763    Residual: 7.04e-05    Free energy: -1.41e+00\n",
      " 10    Max Delta: 1.763    Residual: 5.62e-05    Free energy: -1.41e+00\n",
      " 11    Max Delta: 1.763    Residual: 4.49e-05    Free energy: -1.41e+00\n",
      " 12    Max Delta: 1.763    Residual: 3.58e-05    Free energy: -1.41e+00\n",
      " 13    Max Delta: 1.764    Residual: 2.86e-05    Free energy: -1.41e+00\n",
      " 14    Max Delta: 1.764    Residual: 2.29e-05    Free energy: -1.41e+00\n",
      " 15    Max Delta: 1.764    Residual: 1.83e-05    Free energy: -1.41e+00\n",
      " 16    Max Delta: 1.764    Residual: 1.46e-05    Free energy: -1.41e+00\n",
      " 17    Max Delta: 1.764    Residual: 1.16e-05    Free energy: -1.41e+00\n",
      " 18    Max Delta: 1.764    Residual: 9.30e-06    Free energy: -1.41e+00\n",
      " 19    Max Delta: 1.764    Residual: 7.43e-06    Free energy: -1.41e+00\n",
      " 20    Max Delta: 1.764    Residual: 5.93e-06    Free energy: -1.41e+00\n",
      " 21    Max Delta: 1.764    Residual: 4.74e-06    Free energy: -1.41e+00\n",
      " 22    Max Delta: 1.764    Residual: 3.78e-06    Free energy: -1.41e+00\n",
      " 23    Max Delta: 1.764    Residual: 3.02e-06    Free energy: -1.41e+00\n",
      " 24    Max Delta: 1.764    Residual: 2.41e-06    Free energy: -1.41e+00\n",
      " 25    Max Delta: 1.764    Residual: 1.93e-06    Free energy: -1.41e+00\n",
      " 26    Max Delta: 1.764    Residual: 1.54e-06    Free energy: -1.41e+00\n",
      " 27    Max Delta: 1.764    Residual: 1.23e-06    Free energy: -1.41e+00\n",
      " 28    Max Delta: 1.764    Residual: 9.82e-07    Free energy: -1.41e+00\n",
      "Converged in 28 iterations\n"
     ]
    }
   ],
   "source": [
    "# Execute a self-consistent calculation to determine the gap Delta\n",
    "up.solve_self_consistent() "
   ]
  },
  {
   "cell_type": "code",
   "execution_count": 5,
   "id": "d3a35b5d-3959-4e99-bef1-382e7ff04894",
   "metadata": {},
   "outputs": [],
   "source": [
    "# Solve for the spectral quantities, first define an energy axis then execute the calculation\n",
    "up.set_real_omega_ax(-5, 5, 101)\n",
    "up.solve_spectral()"
   ]
  },
  {
   "cell_type": "code",
   "execution_count": 6,
   "id": "c3e5254c-58a2-4923-a77b-550f8d8f1d30",
   "metadata": {},
   "outputs": [
    {
     "data": {
      "text/plain": [
       "<matplotlib.legend.Legend at 0x7fffb96f5ae0>"
      ]
     },
     "execution_count": 6,
     "metadata": {},
     "output_type": "execute_result"
    },
    {
     "data": {
      "image/png": "[encoded data removed]",
      "text/plain": [
       "<Figure size 432x288 with 1 Axes>"
      ]
     },
     "metadata": {
      "needs_background": "light"
     },
     "output_type": "display_data"
    }
   ],
   "source": [
    "fig, ax = plt.subplots()\n",
    "ax.plot(up.get_omega_ax_r(), up.get_dos(), label=\"DOS\")\n",
    "ax.plot(up.get_omega_ax_r(), up.get_spin_resolved_dos(\"x\")[0], label=\"DOSu\")\n",
    "ax.plot(up.get_omega_ax_r(), up.get_spin_resolved_dos(\"x\")[1], label=\"DOSd\")\n",
    "ax.legend()"
   ]
  },
  {
   "cell_type": "code",
   "execution_count": 7,
   "id": "fe08bb3d-6262-4775-8e17-2e982e903645",
   "metadata": {},
   "outputs": [
    {
     "data": {
      "text/plain": [
       "<matplotlib.legend.Legend at 0x7fffb965aad0>"
      ]
     },
     "execution_count": 7,
     "metadata": {},
     "output_type": "execute_result"
    },
    {
     "data": {
      "image/png": "[encoded data removed]",
      "text/plain": [
       "<Figure size 432x288 with 1 Axes>"
      ]
     },
     "metadata": {
      "needs_background": "light"
     },
     "output_type": "display_data"
    }
   ],
   "source": [
    "fig, ax = plt.subplots()\n",
    "ax.plot(up.get_omega_ax_r(), up.get_pairing_amplitudes()[0], label=\"$\\Delta_{0}$\")\n",
    "ax.plot(up.get_omega_ax_r(), up.get_pairing_amplitudes()[1], label=\"$\\Delta_{x}$\")\n",
    "ax.plot(up.get_omega_ax_r(), up.get_pairing_amplitudes()[2], label=\"$\\Delta_{y}$\")\n",
    "ax.plot(up.get_omega_ax_r(), up.get_pairing_amplitudes()[3], label=\"$\\Delta_{z}$\")\n",
    "ax.legend()"
   ]
  },
  {
   "cell_type": "code",
   "execution_count": null,
   "id": "ed809494-077e-4b28-980a-4f788e3a3c5d",
   "metadata": {},
   "outputs": [],
   "source": []
  },
  {
   "cell_type": "code",
   "execution_count": null,
   "id": "49093eb9-cb13-42a6-b97e-9cc9075bcdd2",
   "metadata": {},
   "outputs": [],
   "source": []
  }
 ],
 "metadata": {
  "kernelspec": {
   "display_name": "Python [conda env:qenv310]",
   "language": "python",
   "name": "conda-env-qenv310-py"
  },
  "language_info": {
   "codemirror_mode": {
    "name": "ipython",
    "version": 3
   },
   "file_extension": ".py",
   "mimetype": "text/x-python",
   "name": "python",
   "nbconvert_exporter": "python",
   "pygments_lexer": "ipython3",
   "version": "3.10.4"
  }
 },
 "nbformat": 4,
 "nbformat_minor": 5
}
