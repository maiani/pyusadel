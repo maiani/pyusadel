{
 "cells": [
  {
   "cell_type": "code",
   "execution_count": 10,
   "id": "20d72840-df9c-4ed1-b4bc-9ea84773eb1d",
   "metadata": {},
   "outputs": [],
   "source": [
    "import matplotlib.pyplot as plt\n",
    "import numpy as np\n",
    "from pyusadel import DifferentialOperators, UsadelProblem\n",
    "from scipy.interpolate import interp1d\n",
    "from scipy.optimize import curve_fit\n",
    "\n",
    "\n",
    "class ModelFitting:\n",
    "    def __init__(\n",
    "        self, e_ax_exp, n_exp, include_sf=False, include_so=False, include_Dynes=False\n",
    "    ):\n",
    "\n",
    "        self.e_ax_exp = e_ax_exp\n",
    "        self.n_exp = n_exp\n",
    "        self.include_sf = include_sf\n",
    "        self.include_so = include_so\n",
    "        self.inclde_Dynes = inclde_Dynes\n",
    "\n",
    "        # Interpolate experimental data\n",
    "        self.n_exp_int = interp1d(self.e_ax_exp, self.n_exp)\n",
    "\n",
    "        # Prepare variables for model parameters\n",
    "        self.N0 = np.array([1])\n",
    "        self.Delta = np.array([1])\n",
    "        self.h = np.array([0.1])\n",
    "        self.tau_sf_inv = np.array([0.0])\n",
    "        self.tau_so_inv = np.array([0])\n",
    "        self.Dynes = np.array([0])\n",
    "\n",
    "    def solve_model(self):\n",
    "        # The system is homogeneous in space, so it has only one site\n",
    "        Nsites = 1\n",
    "\n",
    "        # The system is homogeneous in space, so the differential operators are trivial null matrices\n",
    "        do = DifferentialOperators()\n",
    "        do.D_x = np.zeros((1, 1), dtype=float)\n",
    "        do.D_y = np.zeros((1, 1), dtype=float)\n",
    "        do.D_z = np.zeros((1, 1), dtype=float)\n",
    "        do.L = np.zeros((1, 1), dtype=float)\n",
    "\n",
    "        # Define the parameters of the problem\n",
    "        h_x = self.h_x\n",
    "        h_y = np.array([0])\n",
    "        h_z = np.array([0])\n",
    "        tau_sf_inv = self.tau_sf_inv\n",
    "        tau_so_inv = self.tau_so_inv\n",
    "        D = 0\n",
    "        T = 0.1\n",
    "\n",
    "        # Setup the Usadel problem\n",
    "        up = UsadelProblem(\n",
    "            Nsites=1,\n",
    "            diff_ops=do,\n",
    "            h_x=h_x,\n",
    "            h_y=h_y,\n",
    "            h_z=h_z,\n",
    "            tau_sf_inv=tau_sf_inv,\n",
    "            tau_so_inv=tau_so_inv,\n",
    "            D=D,\n",
    "            T=T,\n",
    "        )\n",
    "        \n",
    "        up.Delta = self.Delta"
   ]
  },
  {
   "cell_type": "code",
   "execution_count": 11,
   "id": "fbb3397b-db54-4b11-8ec5-3d1c8832fa20",
   "metadata": {},
   "outputs": [
    {
     "data": {
      "text/plain": [
       "[<matplotlib.lines.Line2D at 0x7fffa03f25c0>]"
      ]
     },
     "execution_count": 11,
     "metadata": {},
     "output_type": "execute_result"
    },
    {
     "data": {
      "image/png": "[encoded data removed]",
      "text/plain": [
       "<Figure size 432x288 with 1 Axes>"
      ]
     },
     "metadata": {
      "needs_background": "light"
     },
     "output_type": "display_data"
    }
   ],
   "source": [
    "e_ax = np.linspace(-5, 5, 41)\n",
    "n = e_ax * 0 + 1\n",
    "n[15:25] = 0\n",
    "\n",
    "\n",
    "n_int = interp1d(e_ax, n)\n",
    "\n",
    "plt.plot(e_ax, n_int(e_ax))"
   ]
  },
  {
   "cell_type": "code",
   "execution_count": null,
   "id": "ea2a3d5f-bca3-43e9-9bd4-bb076e294d31",
   "metadata": {},
   "outputs": [],
   "source": []
  },
  {
   "cell_type": "code",
   "execution_count": null,
   "id": "99b0ed82-2156-4f23-a45d-d58cd77bd73b",
   "metadata": {},
   "outputs": [],
   "source": []
  }
 ],
 "metadata": {
  "kernelspec": {
   "display_name": "Python [conda env:qenv310]",
   "language": "python",
   "name": "conda-env-qenv310-py"
  },
  "language_info": {
   "codemirror_mode": {
    "name": "ipython",
    "version": 3
   },
   "file_extension": ".py",
   "mimetype": "text/x-python",
   "name": "python",
   "nbconvert_exporter": "python",
   "pygments_lexer": "ipython3",
   "version": "3.10.4"
  }
 },
 "nbformat": 4,
 "nbformat_minor": 5
}
