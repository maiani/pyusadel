{
 "cells": [
  {
   "cell_type": "code",
   "execution_count": 14,
   "id": "e0a2f31c",
   "metadata": {
    "ExecuteTime": {
     "end_time": "2022-03-08T08:08:35.075397Z",
     "start_time": "2022-03-08T08:08:34.452633Z"
    }
   },
   "outputs": [],
   "source": [
    "import matplotlib\n",
    "import matplotlib.pyplot as plt\n",
    "import numpy as np\n",
    "import scipy.linalg as la\n",
    "from scipy import sparse\n",
    "from scipy.sparse import linalg as sla\n",
    "from tqdm.notebook import tqdm\n",
    "from pyusadel import (\n",
    "    gen_assemble_fun,\n",
    "    solve_usadel,\n",
    "    solve_usadel_self_consistent,\n",
    "    DifferentialOperators\n",
    ")"
   ]
  },
  {
   "cell_type": "code",
   "execution_count": 5,
   "id": "8f796de5-ef69-4902-a0e8-2113b007e8aa",
   "metadata": {},
   "outputs": [],
   "source": [
    "h_x = np.zeros((1), dtype=float)\n",
    "h_y = np.zeros((1), dtype=float)"
   ]
  },
  {
   "cell_type": "code",
   "execution_count": 6,
   "id": "32441110-a146-4e8d-aa95-db28d132dbd2",
   "metadata": {},
   "outputs": [],
   "source": [
    "T_c0 = 1\n",
    "Delta_00 = T_c0 * 1.7652\n",
    "h_c = Delta_00 / np.sqrt(2)"
   ]
  },
  {
   "cell_type": "code",
   "execution_count": 21,
   "id": "7ab94ef0-33be-42a0-8e24-e6ed7df571b2",
   "metadata": {},
   "outputs": [
    {
     "data": {
      "application/vnd.jupyter.widget-view+json": {
       "model_id": "78ecc30a9903421e806b1b512161bafd",
       "version_major": 2,
       "version_minor": 0
      },
      "text/plain": [
       "  0%|          | 0/41 [00:00<?, ?it/s]"
      ]
     },
     "metadata": {},
     "output_type": "display_data"
    },
    {
     "name": "stdout",
     "output_type": "stream",
     "text": [
      "T = 0.05, h = 1.0\n",
      "  1    Max Delta: 1.140    Residual: 1.23e-01    Free energy: -1.40e-01\n",
      "  2    Max Delta: 1.308    Residual: 1.29e-01    Free energy: -2.95e-01\n",
      "  3    Max Delta: 1.445    Residual: 9.50e-02    Free energy: -4.18e-01\n",
      "  4    Max Delta: 1.547    Residual: 6.60e-02    Free energy: -4.89e-01\n",
      "  5    Max Delta: 1.620    Residual: 4.49e-02    Free energy: -5.25e-01\n",
      "  6    Max Delta: 1.670    Residual: 3.02e-02    Free energy: -5.43e-01\n",
      "  7    Max Delta: 1.705    Residual: 2.01e-02    Free energy: -5.52e-01\n",
      "  8    Max Delta: 1.728    Residual: 1.34e-02    Free energy: -5.56e-01\n",
      "  9    Max Delta: 1.743    Residual: 8.82e-03    Free energy: -5.57e-01\n",
      " 10    Max Delta: 1.753    Residual: 5.80e-03    Free energy: -5.58e-01\n",
      " 11    Max Delta: 1.760    Residual: 3.81e-03    Free energy: -5.58e-01\n",
      " 12    Max Delta: 1.765    Residual: 2.50e-03    Free energy: -5.59e-01\n",
      " 13    Max Delta: 1.767    Residual: 1.64e-03    Free energy: -5.59e-01\n",
      " 14    Max Delta: 1.769    Residual: 1.08e-03    Free energy: -5.59e-01\n",
      " 15    Max Delta: 1.771    Residual: 7.05e-04    Free energy: -5.59e-01\n",
      " 16    Max Delta: 1.771    Residual: 4.62e-04    Free energy: -5.59e-01\n",
      " 17    Max Delta: 1.772    Residual: 3.03e-04    Free energy: -5.59e-01\n",
      " 18    Max Delta: 1.772    Residual: 1.98e-04    Free energy: -5.59e-01\n",
      " 19    Max Delta: 1.773    Residual: 1.30e-04    Free energy: -5.59e-01\n",
      " 20    Max Delta: 1.773    Residual: 8.51e-05    Free energy: -5.59e-01\n",
      " 21    Max Delta: 1.773    Residual: 5.57e-05    Free energy: -5.59e-01\n",
      " 22    Max Delta: 1.773    Residual: 3.65e-05    Free energy: -5.59e-01\n",
      " 23    Max Delta: 1.773    Residual: 2.39e-05    Free energy: -5.59e-01\n",
      " 24    Max Delta: 1.773    Residual: 1.57e-05    Free energy: -5.59e-01\n",
      " 25    Max Delta: 1.773    Residual: 1.03e-05    Free energy: -5.59e-01\n",
      " 26    Max Delta: 1.773    Residual: 6.72e-06    Free energy: -5.59e-01\n",
      " 27    Max Delta: 1.773    Residual: 4.40e-06    Free energy: -5.59e-01\n",
      " 28    Max Delta: 1.773    Residual: 2.88e-06    Free energy: -5.59e-01\n",
      " 29    Max Delta: 1.773    Residual: 1.89e-06    Free energy: -5.59e-01\n",
      " 30    Max Delta: 1.773    Residual: 1.24e-06    Free energy: -5.59e-01\n",
      " 31    Max Delta: 1.773    Residual: 8.09e-07    Free energy: -5.59e-01\n",
      "Converged in 31 iterations\n",
      "Delta = 1.7729884701089969, f_sn = -0.5586095957765357\n",
      "T = 0.05, h = 1.01\n",
      "  1    Max Delta: 1.132    Residual: 1.17e-01    Free energy: -1.18e-01\n",
      "  2    Max Delta: 1.299    Residual: 1.29e-01    Free energy: -2.67e-01\n",
      "  3    Max Delta: 1.439    Residual: 9.68e-02    Free energy: -3.93e-01\n",
      "  4    Max Delta: 1.542    Residual: 6.73e-02    Free energy: -4.66e-01\n",
      "  5    Max Delta: 1.617    Residual: 4.59e-02    Free energy: -5.04e-01\n",
      "  6    Max Delta: 1.668    Residual: 3.09e-02    Free energy: -5.23e-01\n",
      "  7    Max Delta: 1.703    Residual: 2.06e-02    Free energy: -5.31e-01\n",
      "  8    Max Delta: 1.727    Residual: 1.37e-02    Free energy: -5.35e-01\n",
      "  9    Max Delta: 1.743    Residual: 9.02e-03    Free energy: -5.37e-01\n",
      " 10    Max Delta: 1.753    Residual: 5.94e-03    Free energy: -5.38e-01\n",
      " 11    Max Delta: 1.760    Residual: 3.90e-03    Free energy: -5.38e-01\n",
      " 12    Max Delta: 1.764    Residual: 2.56e-03    Free energy: -5.39e-01\n",
      " 13    Max Delta: 1.767    Residual: 1.68e-03    Free energy: -5.39e-01\n",
      " 14    Max Delta: 1.769    Residual: 1.10e-03    Free energy: -5.39e-01\n",
      " 15    Max Delta: 1.771    Residual: 7.22e-04    Free energy: -5.39e-01\n",
      " 16    Max Delta: 1.771    Residual: 4.73e-04    Free energy: -5.39e-01\n",
      " 17    Max Delta: 1.772    Residual: 3.10e-04    Free energy: -5.39e-01\n",
      " 18    Max Delta: 1.772    Residual: 2.03e-04    Free energy: -5.39e-01\n",
      " 19    Max Delta: 1.773    Residual: 1.33e-04    Free energy: -5.39e-01\n",
      " 20    Max Delta: 1.773    Residual: 8.71e-05    Free energy: -5.39e-01\n",
      " 21    Max Delta: 1.773    Residual: 5.70e-05    Free energy: -5.39e-01\n",
      " 22    Max Delta: 1.773    Residual: 3.74e-05    Free energy: -5.39e-01\n",
      " 23    Max Delta: 1.773    Residual: 2.45e-05    Free energy: -5.39e-01\n",
      " 24    Max Delta: 1.773    Residual: 1.60e-05    Free energy: -5.39e-01\n",
      " 25    Max Delta: 1.773    Residual: 1.05e-05    Free energy: -5.39e-01\n",
      " 26    Max Delta: 1.773    Residual: 6.87e-06    Free energy: -5.39e-01\n",
      " 27    Max Delta: 1.773    Residual: 4.50e-06    Free energy: -5.39e-01\n",
      " 28    Max Delta: 1.773    Residual: 2.95e-06    Free energy: -5.39e-01\n",
      " 29    Max Delta: 1.773    Residual: 1.93e-06    Free energy: -5.39e-01\n",
      " 30    Max Delta: 1.773    Residual: 1.26e-06    Free energy: -5.39e-01\n",
      " 31    Max Delta: 1.773    Residual: 8.28e-07    Free energy: -5.39e-01\n",
      "Converged in 31 iterations\n",
      "Delta = 1.7730594089326848, f_sn = -0.5386359119536778\n",
      "T = 0.05, h = 1.02\n",
      "  1    Max Delta: 1.124    Residual: 1.11e-01    Free energy: -9.57e-02\n",
      "  2    Max Delta: 1.290    Residual: 1.28e-01    Free energy: -2.38e-01\n",
      "  3    Max Delta: 1.431    Residual: 9.88e-02    Free energy: -3.66e-01\n",
      "  4    Max Delta: 1.537    Residual: 6.89e-02    Free energy: -4.42e-01\n",
      "  5    Max Delta: 1.613    Residual: 4.70e-02    Free energy: -4.82e-01\n",
      "  6    Max Delta: 1.666    Residual: 3.17e-02    Free energy: -5.02e-01\n",
      "  7    Max Delta: 1.702    Residual: 2.11e-02    Free energy: -5.11e-01\n",
      "  8    Max Delta: 1.726    Residual: 1.40e-02    Free energy: -5.15e-01\n",
      "  9    Max Delta: 1.742    Residual: 9.26e-03    Free energy: -5.17e-01\n",
      " 10    Max Delta: 1.753    Residual: 6.10e-03    Free energy: -5.18e-01\n",
      " 11    Max Delta: 1.760    Residual: 4.01e-03    Free energy: -5.18e-01\n",
      " 12    Max Delta: 1.764    Residual: 2.63e-03    Free energy: -5.18e-01\n",
      " 13    Max Delta: 1.767    Residual: 1.73e-03    Free energy: -5.18e-01\n",
      " 14    Max Delta: 1.769    Residual: 1.13e-03    Free energy: -5.18e-01\n",
      " 15    Max Delta: 1.771    Residual: 7.41e-04    Free energy: -5.18e-01\n",
      " 16    Max Delta: 1.771    Residual: 4.86e-04    Free energy: -5.18e-01\n",
      " 17    Max Delta: 1.772    Residual: 3.18e-04    Free energy: -5.18e-01\n",
      " 18    Max Delta: 1.772    Residual: 2.08e-04    Free energy: -5.18e-01\n",
      " 19    Max Delta: 1.773    Residual: 1.37e-04    Free energy: -5.18e-01\n",
      " 20    Max Delta: 1.773    Residual: 8.94e-05    Free energy: -5.18e-01\n",
      " 21    Max Delta: 1.773    Residual: 5.86e-05    Free energy: -5.18e-01\n",
      " 22    Max Delta: 1.773    Residual: 3.84e-05    Free energy: -5.18e-01\n",
      " 23    Max Delta: 1.773    Residual: 2.51e-05    Free energy: -5.18e-01\n",
      " 24    Max Delta: 1.773    Residual: 1.65e-05    Free energy: -5.18e-01\n",
      " 25    Max Delta: 1.773    Residual: 1.08e-05    Free energy: -5.18e-01\n",
      " 26    Max Delta: 1.773    Residual: 7.06e-06    Free energy: -5.18e-01\n",
      " 27    Max Delta: 1.773    Residual: 4.62e-06    Free energy: -5.18e-01\n",
      " 28    Max Delta: 1.773    Residual: 3.03e-06    Free energy: -5.18e-01\n",
      " 29    Max Delta: 1.773    Residual: 1.98e-06    Free energy: -5.18e-01\n",
      " 30    Max Delta: 1.773    Residual: 1.30e-06    Free energy: -5.18e-01\n",
      " 31    Max Delta: 1.773    Residual: 8.50e-07    Free energy: -5.18e-01\n",
      "Converged in 31 iterations\n",
      "Delta = 1.773131037402814, f_sn = -0.5184634853448772\n",
      "T = 0.05, h = 1.03\n",
      "  1    Max Delta: 1.116    Residual: 1.04e-01    Free energy: -7.42e-02\n",
      "  2    Max Delta: 1.279    Residual: 1.27e-01    Free energy: -2.08e-01\n",
      "  3    Max Delta: 1.422    Residual: 1.01e-01    Free energy: -3.39e-01\n",
      "  4    Max Delta: 1.531    Residual: 7.08e-02    Free energy: -4.18e-01\n",
      "  5    Max Delta: 1.608    Residual: 4.84e-02    Free energy: -4.60e-01\n",
      "  6    Max Delta: 1.663    Residual: 3.26e-02    Free energy: -4.80e-01\n",
      "  7    Max Delta: 1.700    Residual: 2.18e-02    Free energy: -4.90e-01\n",
      "  8    Max Delta: 1.724    Residual: 1.44e-02    Free energy: -4.95e-01\n",
      "  9    Max Delta: 1.741    Residual: 9.53e-03    Free energy: -4.97e-01\n",
      " 10    Max Delta: 1.752    Residual: 6.28e-03    Free energy: -4.97e-01\n",
      " 11    Max Delta: 1.759    Residual: 4.13e-03    Free energy: -4.98e-01\n",
      " 12    Max Delta: 1.764    Residual: 2.71e-03    Free energy: -4.98e-01\n",
      " 13    Max Delta: 1.767    Residual: 1.78e-03    Free energy: -4.98e-01\n",
      " 14    Max Delta: 1.769    Residual: 1.17e-03    Free energy: -4.98e-01\n",
      " 15    Max Delta: 1.771    Residual: 7.64e-04    Free energy: -4.98e-01\n",
      " 16    Max Delta: 1.772    Residual: 5.01e-04    Free energy: -4.98e-01\n",
      " 17    Max Delta: 1.772    Residual: 3.28e-04    Free energy: -4.98e-01\n",
      " 18    Max Delta: 1.772    Residual: 2.15e-04    Free energy: -4.98e-01\n",
      " 19    Max Delta: 1.773    Residual: 1.41e-04    Free energy: -4.98e-01\n",
      " 20    Max Delta: 1.773    Residual: 9.21e-05    Free energy: -4.98e-01\n",
      " 21    Max Delta: 1.773    Residual: 6.04e-05    Free energy: -4.98e-01\n",
      " 22    Max Delta: 1.773    Residual: 3.95e-05    Free energy: -4.98e-01\n",
      " 23    Max Delta: 1.773    Residual: 2.59e-05    Free energy: -4.98e-01\n",
      " 24    Max Delta: 1.773    Residual: 1.70e-05    Free energy: -4.98e-01\n",
      " 25    Max Delta: 1.773    Residual: 1.11e-05    Free energy: -4.98e-01\n",
      " 26    Max Delta: 1.773    Residual: 7.27e-06    Free energy: -4.98e-01\n",
      " 27    Max Delta: 1.773    Residual: 4.76e-06    Free energy: -4.98e-01\n",
      " 28    Max Delta: 1.773    Residual: 3.12e-06    Free energy: -4.98e-01\n",
      " 29    Max Delta: 1.773    Residual: 2.04e-06    Free energy: -4.98e-01\n",
      " 30    Max Delta: 1.773    Residual: 1.34e-06    Free energy: -4.98e-01\n",
      " 31    Max Delta: 1.773    Residual: 8.76e-07    Free energy: -4.98e-01\n",
      "Converged in 31 iterations\n",
      "Delta = 1.773203352153196, f_sn = -0.4980923160272505\n",
      "T = 0.05, h = 1.04\n",
      "  1    Max Delta: 1.108    Residual: 9.72e-02    Free energy: -5.33e-02\n"
     ]
    },
    {
     "ename": "KeyboardInterrupt",
     "evalue": "",
     "output_type": "error",
     "traceback": [
      "\u001b[0;31m---------------------------------------------------------------------------\u001b[0m",
      "\u001b[0;31mKeyboardInterrupt\u001b[0m                         Traceback (most recent call last)",
      "Input \u001b[0;32mIn [21]\u001b[0m, in \u001b[0;36m<cell line: 22>\u001b[0;34m()\u001b[0m\n\u001b[1;32m     27\u001b[0m Delta \u001b[38;5;241m=\u001b[39m np\u001b[38;5;241m.\u001b[39mones((\u001b[38;5;241m1\u001b[39m), dtype\u001b[38;5;241m=\u001b[39m\u001b[38;5;28mfloat\u001b[39m)\n\u001b[1;32m     28\u001b[0m \u001b[38;5;28mprint\u001b[39m(\u001b[38;5;124mf\u001b[39m\u001b[38;5;124m\"\u001b[39m\u001b[38;5;124mT = \u001b[39m\u001b[38;5;132;01m{\u001b[39;00mT\u001b[38;5;132;01m}\u001b[39;00m\u001b[38;5;124m, h = \u001b[39m\u001b[38;5;132;01m{\u001b[39;00mh_ax[j]\u001b[38;5;132;01m}\u001b[39;00m\u001b[38;5;124m\"\u001b[39m)\n\u001b[0;32m---> 30\u001b[0m (theta, M_x, M_y, Delta, omega_ax, f_sn) \u001b[38;5;241m=\u001b[39m \u001b[43msolve_usadel_self_consistent\u001b[49m\u001b[43m(\u001b[49m\n\u001b[1;32m     31\u001b[0m \u001b[43m    \u001b[49m\u001b[43massemble_fun\u001b[49m\u001b[43m,\u001b[49m\n\u001b[1;32m     32\u001b[0m \u001b[43m    \u001b[49m\u001b[43mh_x\u001b[49m\u001b[43m,\u001b[49m\n\u001b[1;32m     33\u001b[0m \u001b[43m    \u001b[49m\u001b[43mh_y\u001b[49m\u001b[43m,\u001b[49m\n\u001b[1;32m     34\u001b[0m \u001b[43m    \u001b[49m\u001b[43mDelta\u001b[49m\u001b[43m,\u001b[49m\n\u001b[1;32m     35\u001b[0m \u001b[43m    \u001b[49m\u001b[43mT\u001b[49m\u001b[43m,\u001b[49m\n\u001b[1;32m     36\u001b[0m \u001b[43m    \u001b[49m\u001b[43momega_N\u001b[49m\u001b[38;5;241;43m=\u001b[39;49m\u001b[38;5;241;43m50\u001b[39;49m\u001b[43m,\u001b[49m\n\u001b[1;32m     37\u001b[0m \u001b[43m    \u001b[49m\u001b[43mgamma\u001b[49m\u001b[38;5;241;43m=\u001b[39;49m\u001b[38;5;241;43m1\u001b[39;49m\u001b[43m,\u001b[49m\n\u001b[1;32m     38\u001b[0m \u001b[43m    \u001b[49m\u001b[43mtol\u001b[49m\u001b[38;5;241;43m=\u001b[39;49m\u001b[38;5;241;43m1e-6\u001b[39;49m\u001b[43m,\u001b[49m\n\u001b[1;32m     39\u001b[0m \u001b[43m    \u001b[49m\u001b[43mmax_iter\u001b[49m\u001b[38;5;241;43m=\u001b[39;49m\u001b[38;5;241;43m200\u001b[39;49m\u001b[43m,\u001b[49m\n\u001b[1;32m     40\u001b[0m \u001b[43m    \u001b[49m\u001b[43mmax_iter_delta\u001b[49m\u001b[38;5;241;43m=\u001b[39;49m\u001b[38;5;241;43m200\u001b[39;49m\u001b[43m,\u001b[49m\n\u001b[1;32m     41\u001b[0m \u001b[43m\u001b[49m\u001b[43m)\u001b[49m\n\u001b[1;32m     43\u001b[0m Deltas[i, j] \u001b[38;5;241m=\u001b[39m Delta[\u001b[38;5;241m0\u001b[39m]\n\u001b[1;32m     44\u001b[0m fsns[i, j] \u001b[38;5;241m=\u001b[39m f_sn\n",
      "File \u001b[0;32m/home/projects/ku_00125/people/andmai/workspace/pyusadel/pyusadel/usadel.py:458\u001b[0m, in \u001b[0;36msolve_usadel_self_consistent\u001b[0;34m(assemble_fun, h_x, h_y, Delta, T, omega_N, gamma, tol, max_iter, max_iter_delta)\u001b[0m\n\u001b[1;32m    455\u001b[0m iter_n \u001b[38;5;241m+\u001b[39m\u001b[38;5;241m=\u001b[39m \u001b[38;5;241m1\u001b[39m\n\u001b[1;32m    457\u001b[0m \u001b[38;5;28;01mfor\u001b[39;00m omega_idx \u001b[38;5;129;01min\u001b[39;00m \u001b[38;5;28mrange\u001b[39m(omega_N):\n\u001b[0;32m--> 458\u001b[0m     \u001b[43msolve_usadel\u001b[49m\u001b[43m(\u001b[49m\n\u001b[1;32m    459\u001b[0m \u001b[43m        \u001b[49m\u001b[43massemble_fun\u001b[49m\u001b[43m[\u001b[49m\u001b[43m:\u001b[49m\u001b[38;5;241;43m-\u001b[39;49m\u001b[38;5;241;43m1\u001b[39;49m\u001b[43m]\u001b[49m\u001b[43m,\u001b[49m\n\u001b[1;32m    460\u001b[0m \u001b[43m        \u001b[49m\u001b[43mtheta\u001b[49m\u001b[43m,\u001b[49m\n\u001b[1;32m    461\u001b[0m \u001b[43m        \u001b[49m\u001b[43mM_x\u001b[49m\u001b[43m,\u001b[49m\n\u001b[1;32m    462\u001b[0m \u001b[43m        \u001b[49m\u001b[43mM_y\u001b[49m\u001b[43m,\u001b[49m\n\u001b[1;32m    463\u001b[0m \u001b[43m        \u001b[49m\u001b[43mh_x\u001b[49m\u001b[43m,\u001b[49m\n\u001b[1;32m    464\u001b[0m \u001b[43m        \u001b[49m\u001b[43mh_y\u001b[49m\u001b[43m,\u001b[49m\n\u001b[1;32m    465\u001b[0m \u001b[43m        \u001b[49m\u001b[43mDelta\u001b[49m\u001b[43m,\u001b[49m\n\u001b[1;32m    466\u001b[0m \u001b[43m        \u001b[49m\u001b[43momega_ax\u001b[49m\u001b[43m,\u001b[49m\n\u001b[1;32m    467\u001b[0m \u001b[43m        \u001b[49m\u001b[43momega_idx\u001b[49m\u001b[43m,\u001b[49m\n\u001b[1;32m    468\u001b[0m \u001b[43m        \u001b[49m\u001b[43mgamma\u001b[49m\u001b[38;5;241;43m=\u001b[39;49m\u001b[43mgamma\u001b[49m\u001b[43m,\u001b[49m\n\u001b[1;32m    469\u001b[0m \u001b[43m        \u001b[49m\u001b[43mtol\u001b[49m\u001b[38;5;241;43m=\u001b[39;49m\u001b[43mtol\u001b[49m\u001b[43m,\u001b[49m\n\u001b[1;32m    470\u001b[0m \u001b[43m        \u001b[49m\u001b[43mmax_iter\u001b[49m\u001b[38;5;241;43m=\u001b[39;49m\u001b[43mmax_iter\u001b[49m\u001b[43m,\u001b[49m\n\u001b[1;32m    471\u001b[0m \u001b[43m        \u001b[49m\u001b[43mprint_exit_status\u001b[49m\u001b[38;5;241;43m=\u001b[39;49m\u001b[38;5;28;43;01mFalse\u001b[39;49;00m\u001b[43m,\u001b[49m\n\u001b[1;32m    472\u001b[0m \u001b[43m    \u001b[49m\u001b[43m)\u001b[49m\n\u001b[1;32m    474\u001b[0m old_Delta \u001b[38;5;241m=\u001b[39m Delta\u001b[38;5;241m.\u001b[39mcopy()\n\u001b[1;32m    476\u001b[0m Delta \u001b[38;5;241m=\u001b[39m (\n\u001b[1;32m    477\u001b[0m     (\u001b[38;5;241m2\u001b[39m \u001b[38;5;241m*\u001b[39m np\u001b[38;5;241m.\u001b[39mpi \u001b[38;5;241m*\u001b[39m T)\n\u001b[1;32m    478\u001b[0m     \u001b[38;5;241m*\u001b[39m (np\u001b[38;5;241m.\u001b[39msum(np\u001b[38;5;241m.\u001b[39msin(theta) \u001b[38;5;241m*\u001b[39m np\u001b[38;5;241m.\u001b[39msqrt(\u001b[38;5;241m1\u001b[39m \u001b[38;5;241m+\u001b[39m M_x \u001b[38;5;241m*\u001b[39m\u001b[38;5;241m*\u001b[39m \u001b[38;5;241m2\u001b[39m \u001b[38;5;241m+\u001b[39m M_y \u001b[38;5;241m*\u001b[39m\u001b[38;5;241m*\u001b[39m \u001b[38;5;241m2\u001b[39m), axis\u001b[38;5;241m=\u001b[39m\u001b[38;5;241m0\u001b[39m))\n\u001b[1;32m    479\u001b[0m     \u001b[38;5;241m/\u001b[39m (np\u001b[38;5;241m.\u001b[39mlog(T \u001b[38;5;241m/\u001b[39m T_c0) \u001b[38;5;241m+\u001b[39m (\u001b[38;5;241m2\u001b[39m \u001b[38;5;241m*\u001b[39m np\u001b[38;5;241m.\u001b[39mpi \u001b[38;5;241m*\u001b[39m T) \u001b[38;5;241m*\u001b[39m np\u001b[38;5;241m.\u001b[39msum(omega_ax \u001b[38;5;241m*\u001b[39m\u001b[38;5;241m*\u001b[39m (\u001b[38;5;241m-\u001b[39m\u001b[38;5;241m1\u001b[39m)))\n\u001b[1;32m    480\u001b[0m )\n",
      "File \u001b[0;32m/home/projects/ku_00125/people/andmai/workspace/pyusadel/pyusadel/usadel.py:413\u001b[0m, in \u001b[0;36msolve_usadel\u001b[0;34m(assemble_fun, theta, M_x, M_y, h_x, h_y, Delta, omega_ax, omega_idx, gamma, tol, max_iter, print_exit_status, use_dense)\u001b[0m\n\u001b[1;32m    409\u001b[0m M_x[omega_idx] \u001b[38;5;241m+\u001b[39m\u001b[38;5;241m=\u001b[39m gamma \u001b[38;5;241m*\u001b[39m dM_x\n\u001b[1;32m    410\u001b[0m M_y[omega_idx] \u001b[38;5;241m+\u001b[39m\u001b[38;5;241m=\u001b[39m gamma \u001b[38;5;241m*\u001b[39m dM_y\n\u001b[1;32m    412\u001b[0m res \u001b[38;5;241m=\u001b[39m np\u001b[38;5;241m.\u001b[39msum(np\u001b[38;5;241m.\u001b[39mabs(dd)) \u001b[38;5;241m/\u001b[39m (\n\u001b[0;32m--> 413\u001b[0m     \u001b[43mnp\u001b[49m\u001b[38;5;241;43m.\u001b[39;49m\u001b[43msum\u001b[49m\u001b[43m(\u001b[49m\u001b[43mnp\u001b[49m\u001b[38;5;241;43m.\u001b[39;49m\u001b[43mabs\u001b[49m\u001b[43m(\u001b[49m\u001b[43mtheta\u001b[49m\u001b[43m)\u001b[49m\u001b[43m)\u001b[49m \u001b[38;5;241m+\u001b[39m np\u001b[38;5;241m.\u001b[39msum(np\u001b[38;5;241m.\u001b[39mabs(M_x)) \u001b[38;5;241m+\u001b[39m np\u001b[38;5;241m.\u001b[39msum(np\u001b[38;5;241m.\u001b[39mabs(M_y))\n\u001b[1;32m    414\u001b[0m )\n\u001b[1;32m    416\u001b[0m \u001b[38;5;28;01mif\u001b[39;00m res \u001b[38;5;241m<\u001b[39m tol:\n\u001b[1;32m    417\u001b[0m     \u001b[38;5;28;01mif\u001b[39;00m print_exit_status:\n",
      "File \u001b[0;32m<__array_function__ internals>:180\u001b[0m, in \u001b[0;36msum\u001b[0;34m(*args, **kwargs)\u001b[0m\n",
      "File \u001b[0;32m~/workspace/miniconda3/envs/qenv310/lib/python3.10/site-packages/numpy/core/fromnumeric.py:2296\u001b[0m, in \u001b[0;36msum\u001b[0;34m(a, axis, dtype, out, keepdims, initial, where)\u001b[0m\n\u001b[1;32m   2293\u001b[0m         \u001b[38;5;28;01mreturn\u001b[39;00m out\n\u001b[1;32m   2294\u001b[0m     \u001b[38;5;28;01mreturn\u001b[39;00m res\n\u001b[0;32m-> 2296\u001b[0m \u001b[38;5;28;01mreturn\u001b[39;00m \u001b[43m_wrapreduction\u001b[49m\u001b[43m(\u001b[49m\u001b[43ma\u001b[49m\u001b[43m,\u001b[49m\u001b[43m \u001b[49m\u001b[43mnp\u001b[49m\u001b[38;5;241;43m.\u001b[39;49m\u001b[43madd\u001b[49m\u001b[43m,\u001b[49m\u001b[43m \u001b[49m\u001b[38;5;124;43m'\u001b[39;49m\u001b[38;5;124;43msum\u001b[39;49m\u001b[38;5;124;43m'\u001b[39;49m\u001b[43m,\u001b[49m\u001b[43m \u001b[49m\u001b[43maxis\u001b[49m\u001b[43m,\u001b[49m\u001b[43m \u001b[49m\u001b[43mdtype\u001b[49m\u001b[43m,\u001b[49m\u001b[43m \u001b[49m\u001b[43mout\u001b[49m\u001b[43m,\u001b[49m\u001b[43m \u001b[49m\u001b[43mkeepdims\u001b[49m\u001b[38;5;241;43m=\u001b[39;49m\u001b[43mkeepdims\u001b[49m\u001b[43m,\u001b[49m\n\u001b[1;32m   2297\u001b[0m \u001b[43m                      \u001b[49m\u001b[43minitial\u001b[49m\u001b[38;5;241;43m=\u001b[39;49m\u001b[43minitial\u001b[49m\u001b[43m,\u001b[49m\u001b[43m \u001b[49m\u001b[43mwhere\u001b[49m\u001b[38;5;241;43m=\u001b[39;49m\u001b[43mwhere\u001b[49m\u001b[43m)\u001b[49m\n",
      "File \u001b[0;32m~/workspace/miniconda3/envs/qenv310/lib/python3.10/site-packages/numpy/core/fromnumeric.py:69\u001b[0m, in \u001b[0;36m_wrapreduction\u001b[0;34m(obj, ufunc, method, axis, dtype, out, **kwargs)\u001b[0m\n\u001b[1;32m     58\u001b[0m     \u001b[38;5;28;01mexcept\u001b[39;00m \u001b[38;5;167;01mTypeError\u001b[39;00m:\n\u001b[1;32m     59\u001b[0m         \u001b[38;5;66;03m# A TypeError occurs if the object does have such a method in its\u001b[39;00m\n\u001b[1;32m     60\u001b[0m         \u001b[38;5;66;03m# class, but its signature is not identical to that of NumPy's. This\u001b[39;00m\n\u001b[0;32m   (...)\u001b[0m\n\u001b[1;32m     64\u001b[0m         \u001b[38;5;66;03m# Call _wrapit from within the except clause to ensure a potential\u001b[39;00m\n\u001b[1;32m     65\u001b[0m         \u001b[38;5;66;03m# exception has a traceback chain.\u001b[39;00m\n\u001b[1;32m     66\u001b[0m         \u001b[38;5;28;01mreturn\u001b[39;00m _wrapit(obj, method, \u001b[38;5;241m*\u001b[39margs, \u001b[38;5;241m*\u001b[39m\u001b[38;5;241m*\u001b[39mkwds)\n\u001b[0;32m---> 69\u001b[0m \u001b[38;5;28;01mdef\u001b[39;00m \u001b[38;5;21m_wrapreduction\u001b[39m(obj, ufunc, method, axis, dtype, out, \u001b[38;5;241m*\u001b[39m\u001b[38;5;241m*\u001b[39mkwargs):\n\u001b[1;32m     70\u001b[0m     passkwargs \u001b[38;5;241m=\u001b[39m {k: v \u001b[38;5;28;01mfor\u001b[39;00m k, v \u001b[38;5;129;01min\u001b[39;00m kwargs\u001b[38;5;241m.\u001b[39mitems()\n\u001b[1;32m     71\u001b[0m                   \u001b[38;5;28;01mif\u001b[39;00m v \u001b[38;5;129;01mis\u001b[39;00m \u001b[38;5;129;01mnot\u001b[39;00m np\u001b[38;5;241m.\u001b[39m_NoValue}\n\u001b[1;32m     73\u001b[0m     \u001b[38;5;28;01mif\u001b[39;00m \u001b[38;5;28mtype\u001b[39m(obj) \u001b[38;5;129;01mis\u001b[39;00m \u001b[38;5;129;01mnot\u001b[39;00m mu\u001b[38;5;241m.\u001b[39mndarray:\n",
      "\u001b[0;31mKeyboardInterrupt\u001b[0m: "
     ]
    }
   ],
   "source": [
    "tau_so_inv = 0\n",
    "tau_sf_inv = 0\n",
    "    \n",
    "diff_ops = DifferentialOperators()\n",
    "diff_ops.L = np.array([[0]])\n",
    "diff_ops.D_x = np.array([[0]])\n",
    "diff_ops.D_y = np.array([[0]])\n",
    "diff_ops.D_z = np.array([[0]])\n",
    "\n",
    "D = 0\n",
    "assemble_fun = gen_assemble_fun(diff_ops, D, tau_so_inv, tau_sf_inv)\n",
    "\n",
    "T_N = 1\n",
    "h_N = 41 \n",
    "\n",
    "T_ax = np.linspace(0.05, 1.1, T_N)\n",
    "h_ax = np.linspace(1.0, 1.4, h_N)\n",
    "\n",
    "Deltas = np.zeros((T_N, h_N), dtype=float)\n",
    "fsns = np.zeros((T_N, h_N), dtype=float)\n",
    "\n",
    "for i, j in tqdm(np.ndindex(T_N, h_N), total=T_N * h_N):\n",
    "\n",
    "    T = T_ax[i]\n",
    "    h_x = np.zeros((1), dtype=float) + h_ax[j]\n",
    "    h_y = np.zeros((1), dtype=float)\n",
    "    Delta = np.ones((1), dtype=float)\n",
    "    print(f\"T = {T}, h = {h_ax[j]}\")\n",
    "\n",
    "    (theta, M_x, M_y, Delta, omega_ax, f_sn) = solve_usadel_self_consistent(\n",
    "        assemble_fun,\n",
    "        h_x,\n",
    "        h_y,\n",
    "        Delta,\n",
    "        T,\n",
    "        omega_N=50,\n",
    "        gamma=1,\n",
    "        tol=1e-6,\n",
    "        max_iter=200,\n",
    "        max_iter_delta=200,\n",
    "    )\n",
    "\n",
    "    Deltas[i, j] = Delta[0]\n",
    "    fsns[i, j] = f_sn\n",
    "\n",
    "    print(f\"Delta = {Deltas[i, j]}, f_sn = {f_sn}\")"
   ]
  },
  {
   "cell_type": "code",
   "execution_count": 22,
   "id": "e3e636ed-858a-45f3-868c-5d10f04db8f6",
   "metadata": {},
   "outputs": [
    {
     "data": {
      "text/plain": [
       "<matplotlib.collections.PathCollection at 0x7fff80448610>"
      ]
     },
     "execution_count": 22,
     "metadata": {},
     "output_type": "execute_result"
    },
    {
     "data": {
      "image/png": "[encoded data removed]",
      "text/plain": [
       "<Figure size 432x288 with 2 Axes>"
      ]
     },
     "metadata": {
      "needs_background": "light"
     },
     "output_type": "display_data"
    }
   ],
   "source": [
    "fig, ax = plt.subplots()\n",
    "ax.plot(h_ax, fsns[0])\n",
    "ax.set_ylim(-2, 1)\n",
    "\n",
    "ax.twinx().plot(h_ax, Deltas[0], 'C1')\n",
    "ax.scatter(1.2, 0)"
   ]
  },
  {
   "cell_type": "code",
   "execution_count": null,
   "id": "2556ae2f-6754-4e0a-8eb9-81d77026b5df",
   "metadata": {},
   "outputs": [],
   "source": []
  }
 ],
 "metadata": {
  "kernelspec": {
   "display_name": "Python [conda env:qenv310]",
   "language": "python",
   "name": "conda-env-qenv310-py"
  },
  "language_info": {
   "codemirror_mode": {
    "name": "ipython",
    "version": 3
   },
   "file_extension": ".py",
   "mimetype": "text/x-python",
   "name": "python",
   "nbconvert_exporter": "python",
   "pygments_lexer": "ipython3",
   "version": "3.10.4"
  }
 },
 "nbformat": 4,
 "nbformat_minor": 5
}
