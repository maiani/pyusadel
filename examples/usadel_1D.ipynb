{
 "cells": [
  {
   "cell_type": "code",
   "execution_count": 1,
   "id": "e0a2f31c",
   "metadata": {
    "ExecuteTime": {
     "end_time": "2022-03-08T08:08:35.075397Z",
     "start_time": "2022-03-08T08:08:34.452633Z"
    }
   },
   "outputs": [],
   "source": [
    "import matplotlib.pyplot as plt\n",
    "import numpy as np\n",
    "from pyusadel import DifferentialOperators, UsadelProblem, gradient, laplacian"
   ]
  },
  {
   "cell_type": "code",
   "execution_count": 2,
   "id": "8f796de5-ef69-4902-a0e8-2113b007e8aa",
   "metadata": {},
   "outputs": [],
   "source": [
    "Nx = 401\n",
    "x = np.linspace(-20, 20, Nx)\n",
    "dx = x[1] - x[0]\n",
    "\n",
    "h_x = np.zeros((Nx), dtype=float)\n",
    "h_y = np.zeros((Nx), dtype=float)\n",
    "h_z = np.zeros((Nx), dtype=float)\n",
    "\n",
    "h_x[: Nx // 2] = 0.0\n",
    "h_x[Nx // 2 :] = 1.4\n",
    "\n",
    "tau_sf_inv = np.zeros((Nx), dtype=float)\n",
    "tau_so_inv = np.zeros((Nx), dtype=float)"
   ]
  },
  {
   "cell_type": "code",
   "execution_count": 3,
   "id": "32441110-a146-4e8d-aa95-db28d132dbd2",
   "metadata": {},
   "outputs": [],
   "source": [
    "do = DifferentialOperators()\n",
    "do.D_x = gradient(Nx, dx, boundary_condition=\"open\")\n",
    "do.D_y = np.zeros((Nx, Nx), dtype=float)\n",
    "do.D_z = np.zeros((Nx, Nx), dtype=float)\n",
    "do.L = laplacian(Nx, dx, boundary_condition=\"open\")\n",
    "\n",
    "D = 1.7655\n",
    "T = 0.2\n",
    "\n",
    "up = UsadelProblem(\n",
    "    Nsites=Nx,\n",
    "    diff_ops=do,\n",
    "    h_x=h_x,\n",
    "    h_y=h_y,\n",
    "    h_z=h_z,\n",
    "    tau_sf_inv=tau_sf_inv,\n",
    "    tau_so_inv=tau_so_inv,\n",
    "    D=D,\n",
    "    T=T,\n",
    "    Gamma=0,\n",
    ")\n",
    "\n",
    "up.Delta = np.ones((Nx), dtype=float) * 1.764"
   ]
  },
  {
   "cell_type": "code",
   "execution_count": 4,
   "id": "b84c4a5b-03cf-46ea-842d-1e437d8df261",
   "metadata": {},
   "outputs": [],
   "source": [
    "h_c0 = up.h_c0\n",
    "xi_00 = up.xi_00\n",
    "Delta_00 = up.Delta_00"
   ]
  },
  {
   "cell_type": "code",
   "execution_count": 5,
   "id": "c350657c-05b0-4cb7-a8d7-84ac0553dde0",
   "metadata": {
    "tags": []
   },
   "outputs": [
    {
     "data": {
      "text/plain": [
       "<matplotlib.legend.Legend at 0x7fffb975e5f0>"
      ]
     },
     "execution_count": 5,
     "metadata": {},
     "output_type": "execute_result"
    },
    {
     "data": {
      "image/png": "[encoded data removed]",
      "text/plain": [
       "<Figure size 432x288 with 1 Axes>"
      ]
     },
     "metadata": {
      "needs_background": "light"
     },
     "output_type": "display_data"
    }
   ],
   "source": [
    "fig, ax = plt.subplots()\n",
    "ax.hlines([h_c0, -h_c0], -6, 6, colors=\"k\", linestyles=\"--\", linewidth=1)\n",
    "ax.plot(x / xi_00, h_x, \"-\", label=r\"$h_x$\")\n",
    "ax.plot(x / xi_00, h_y, \"-\", label=r\"$h_y$\")\n",
    "ax.plot(x / xi_00, np.sqrt(h_x ** 2 + h_y ** 2), \"-\", label=r\"$|h|$\")\n",
    "ax.set_xlabel(r\"$x / \\xi_{00}$\")\n",
    "ax.legend()"
   ]
  },
  {
   "cell_type": "markdown",
   "id": "5a05ce71-fbef-4fe0-b998-4da333f792ca",
   "metadata": {
    "tags": []
   },
   "source": [
    "## Gap equation solver"
   ]
  },
  {
   "cell_type": "code",
   "execution_count": 6,
   "id": "9c32b900-de38-4122-a74f-b8ba9c692110",
   "metadata": {},
   "outputs": [
    {
     "name": "stdout",
     "output_type": "stream",
     "text": [
      "  1    Max Delta: 1.764    Residual: 6.07e-03    Free energy: -1.95e+02\n",
      "  2    Max Delta: 1.764    Residual: 5.42e-03    Free energy: -1.96e+02\n",
      "  3    Max Delta: 1.764    Residual: 4.88e-03    Free energy: -1.97e+02\n",
      "  4    Max Delta: 1.764    Residual: 4.44e-03    Free energy: -1.97e+02\n",
      "  5    Max Delta: 1.764    Residual: 4.07e-03    Free energy: -1.98e+02\n",
      "  6    Max Delta: 1.764    Residual: 3.76e-03    Free energy: -1.98e+02\n",
      "  7    Max Delta: 1.764    Residual: 3.50e-03    Free energy: -1.98e+02\n",
      "  8    Max Delta: 1.764    Residual: 3.28e-03    Free energy: -1.98e+02\n",
      "  9    Max Delta: 1.764    Residual: 3.09e-03    Free energy: -1.99e+02\n",
      " 10    Max Delta: 1.764    Residual: 2.94e-03    Free energy: -1.99e+02\n",
      " 11    Max Delta: 1.764    Residual: 2.81e-03    Free energy: -1.99e+02\n",
      " 12    Max Delta: 1.764    Residual: 2.70e-03    Free energy: -1.99e+02\n",
      " 13    Max Delta: 1.764    Residual: 2.60e-03    Free energy: -1.99e+02\n",
      " 14    Max Delta: 1.764    Residual: 2.53e-03    Free energy: -1.99e+02\n",
      " 15    Max Delta: 1.764    Residual: 2.47e-03    Free energy: -2.00e+02\n",
      " 16    Max Delta: 1.764    Residual: 2.42e-03    Free energy: -2.00e+02\n",
      " 17    Max Delta: 1.764    Residual: 2.39e-03    Free energy: -2.00e+02\n",
      " 18    Max Delta: 1.764    Residual: 2.37e-03    Free energy: -2.00e+02\n",
      " 19    Max Delta: 1.764    Residual: 2.36e-03    Free energy: -2.00e+02\n",
      " 20    Max Delta: 1.764    Residual: 2.36e-03    Free energy: -2.00e+02\n",
      " 21    Max Delta: 1.764    Residual: 2.37e-03    Free energy: -2.00e+02\n",
      " 22    Max Delta: 1.764    Residual: 2.39e-03    Free energy: -2.00e+02\n",
      " 23    Max Delta: 1.764    Residual: 2.43e-03    Free energy: -2.01e+02\n",
      " 24    Max Delta: 1.764    Residual: 2.47e-03    Free energy: -2.01e+02\n",
      " 25    Max Delta: 1.764    Residual: 2.53e-03    Free energy: -2.01e+02\n",
      " 26    Max Delta: 1.764    Residual: 2.60e-03    Free energy: -2.01e+02\n",
      " 27    Max Delta: 1.764    Residual: 2.68e-03    Free energy: -2.01e+02\n",
      " 28    Max Delta: 1.764    Residual: 2.78e-03    Free energy: -2.01e+02\n",
      " 29    Max Delta: 1.764    Residual: 2.90e-03    Free energy: -2.01e+02\n",
      " 30    Max Delta: 1.764    Residual: 3.03e-03    Free energy: -2.02e+02\n",
      " 31    Max Delta: 1.764    Residual: 3.19e-03    Free energy: -2.02e+02\n",
      " 32    Max Delta: 1.764    Residual: 3.37e-03    Free energy: -2.02e+02\n",
      " 33    Max Delta: 1.764    Residual: 3.57e-03    Free energy: -2.02e+02\n",
      " 34    Max Delta: 1.764    Residual: 3.80e-03    Free energy: -2.03e+02\n",
      " 35    Max Delta: 1.764    Residual: 4.07e-03    Free energy: -2.03e+02\n",
      " 36    Max Delta: 1.764    Residual: 4.37e-03    Free energy: -2.03e+02\n",
      " 37    Max Delta: 1.764    Residual: 4.71e-03    Free energy: -2.04e+02\n",
      " 38    Max Delta: 1.764    Residual: 5.10e-03    Free energy: -2.05e+02\n",
      " 39    Max Delta: 1.764    Residual: 5.54e-03    Free energy: -2.05e+02\n",
      " 40    Max Delta: 1.764    Residual: 6.03e-03    Free energy: -2.06e+02\n",
      " 41    Max Delta: 1.764    Residual: 6.57e-03    Free energy: -2.07e+02\n",
      " 42    Max Delta: 1.764    Residual: 7.17e-03    Free energy: -2.08e+02\n",
      " 43    Max Delta: 1.764    Residual: 7.83e-03    Free energy: -2.09e+02\n",
      " 44    Max Delta: 1.764    Residual: 8.54e-03    Free energy: -2.11e+02\n",
      " 45    Max Delta: 1.764    Residual: 9.29e-03    Free energy: -2.12e+02\n",
      " 46    Max Delta: 1.764    Residual: 1.01e-02    Free energy: -2.14e+02\n",
      " 47    Max Delta: 1.764    Residual: 1.08e-02    Free energy: -2.17e+02\n",
      " 48    Max Delta: 1.764    Residual: 1.16e-02    Free energy: -2.19e+02\n",
      " 49    Max Delta: 1.764    Residual: 1.23e-02    Free energy: -2.22e+02\n",
      " 50    Max Delta: 1.764    Residual: 1.29e-02    Free energy: -2.25e+02\n",
      " 51    Max Delta: 1.764    Residual: 1.35e-02    Free energy: -2.28e+02\n",
      " 52    Max Delta: 1.764    Residual: 1.39e-02    Free energy: -2.31e+02\n",
      " 53    Max Delta: 1.764    Residual: 1.42e-02    Free energy: -2.35e+02\n",
      " 54    Max Delta: 1.764    Residual: 1.44e-02    Free energy: -2.38e+02\n",
      " 55    Max Delta: 1.764    Residual: 1.45e-02    Free energy: -2.41e+02\n",
      " 56    Max Delta: 1.764    Residual: 1.44e-02    Free energy: -2.44e+02\n",
      " 57    Max Delta: 1.764    Residual: 1.43e-02    Free energy: -2.47e+02\n",
      " 58    Max Delta: 1.764    Residual: 1.41e-02    Free energy: -2.50e+02\n",
      " 59    Max Delta: 1.764    Residual: 1.38e-02    Free energy: -2.52e+02\n",
      " 60    Max Delta: 1.764    Residual: 1.34e-02    Free energy: -2.54e+02\n",
      " 61    Max Delta: 1.764    Residual: 1.30e-02    Free energy: -2.56e+02\n",
      " 62    Max Delta: 1.764    Residual: 1.26e-02    Free energy: -2.58e+02\n",
      " 63    Max Delta: 1.764    Residual: 1.22e-02    Free energy: -2.60e+02\n",
      " 64    Max Delta: 1.764    Residual: 1.17e-02    Free energy: -2.61e+02\n",
      " 65    Max Delta: 1.764    Residual: 1.12e-02    Free energy: -2.63e+02\n",
      " 66    Max Delta: 1.764    Residual: 1.07e-02    Free energy: -2.64e+02\n",
      " 67    Max Delta: 1.764    Residual: 1.03e-02    Free energy: -2.65e+02\n",
      " 68    Max Delta: 1.764    Residual: 9.82e-03    Free energy: -2.66e+02\n",
      " 69    Max Delta: 1.764    Residual: 9.37e-03    Free energy: -2.67e+02\n",
      " 70    Max Delta: 1.764    Residual: 8.92e-03    Free energy: -2.68e+02\n",
      " 71    Max Delta: 1.764    Residual: 8.50e-03    Free energy: -2.68e+02\n",
      " 72    Max Delta: 1.764    Residual: 8.08e-03    Free energy: -2.69e+02\n",
      " 73    Max Delta: 1.764    Residual: 7.69e-03    Free energy: -2.69e+02\n",
      " 74    Max Delta: 1.764    Residual: 7.30e-03    Free energy: -2.70e+02\n",
      " 75    Max Delta: 1.764    Residual: 6.94e-03    Free energy: -2.70e+02\n",
      " 76    Max Delta: 1.764    Residual: 6.58e-03    Free energy: -2.71e+02\n",
      " 77    Max Delta: 1.764    Residual: 6.25e-03    Free energy: -2.71e+02\n",
      " 78    Max Delta: 1.764    Residual: 5.92e-03    Free energy: -2.71e+02\n",
      " 79    Max Delta: 1.764    Residual: 5.62e-03    Free energy: -2.71e+02\n",
      " 80    Max Delta: 1.764    Residual: 5.32e-03    Free energy: -2.72e+02\n",
      " 81    Max Delta: 1.764    Residual: 5.04e-03    Free energy: -2.72e+02\n",
      " 82    Max Delta: 1.764    Residual: 4.78e-03    Free energy: -2.72e+02\n",
      " 83    Max Delta: 1.764    Residual: 4.53e-03    Free energy: -2.72e+02\n",
      " 84    Max Delta: 1.764    Residual: 4.28e-03    Free energy: -2.72e+02\n",
      " 85    Max Delta: 1.764    Residual: 4.06e-03    Free energy: -2.72e+02\n",
      " 86    Max Delta: 1.764    Residual: 3.84e-03    Free energy: -2.72e+02\n",
      " 87    Max Delta: 1.764    Residual: 3.63e-03    Free energy: -2.72e+02\n",
      " 88    Max Delta: 1.764    Residual: 3.44e-03    Free energy: -2.72e+02\n",
      " 89    Max Delta: 1.764    Residual: 3.25e-03    Free energy: -2.73e+02\n",
      " 90    Max Delta: 1.764    Residual: 3.07e-03    Free energy: -2.73e+02\n",
      " 91    Max Delta: 1.764    Residual: 2.90e-03    Free energy: -2.73e+02\n",
      " 92    Max Delta: 1.764    Residual: 2.75e-03    Free energy: -2.73e+02\n",
      " 93    Max Delta: 1.764    Residual: 2.59e-03    Free energy: -2.73e+02\n",
      " 94    Max Delta: 1.764    Residual: 2.45e-03    Free energy: -2.73e+02\n",
      " 95    Max Delta: 1.764    Residual: 2.32e-03    Free energy: -2.73e+02\n",
      " 96    Max Delta: 1.764    Residual: 2.19e-03    Free energy: -2.73e+02\n",
      " 97    Max Delta: 1.764    Residual: 2.07e-03    Free energy: -2.73e+02\n",
      " 98    Max Delta: 1.764    Residual: 1.95e-03    Free energy: -2.73e+02\n",
      " 99    Max Delta: 1.764    Residual: 1.84e-03    Free energy: -2.73e+02\n",
      "100    Max Delta: 1.764    Residual: 1.74e-03    Free energy: -2.73e+02\n",
      "101    Max Delta: 1.764    Residual: 1.64e-03    Free energy: -2.73e+02\n",
      "Max iteration reached\n"
     ]
    }
   ],
   "source": [
    "up.solve_self_consistent(verbose=True)"
   ]
  },
  {
   "cell_type": "code",
   "execution_count": 7,
   "id": "92cccf24-20f6-47fe-9e41-8a39eb9f5b1a",
   "metadata": {},
   "outputs": [],
   "source": [
    "cc_idx = np.argsort(np.abs(np.abs(h_x) - h_c0))"
   ]
  },
  {
   "cell_type": "code",
   "execution_count": 8,
   "id": "f9d05e25-28ed-4c91-baed-e63501963c0f",
   "metadata": {},
   "outputs": [
    {
     "data": {
      "text/plain": [
       "<matplotlib.legend.Legend at 0x7fffb93b3ac0>"
      ]
     },
     "execution_count": 8,
     "metadata": {},
     "output_type": "execute_result"
    },
    {
     "data": {
      "image/png": "[encoded data removed]",
      "text/plain": [
       "<Figure size 432x288 with 2 Axes>"
      ]
     },
     "metadata": {
      "needs_background": "light"
     },
     "output_type": "display_data"
    }
   ],
   "source": [
    "fig, ax = plt.subplots()\n",
    "ax.plot(x / xi_00, up.Delta / Delta_00, \"-C0\", label=r\"$\\Delta$\")\n",
    "ax.set_ylabel(r\"$\\Delta / \\Delta_{00}$\")\n",
    "ax.vlines(x[cc_idx[0]] / xi_00, 0, 1, colors=\"k\", linestyles=\"--\", linewidth=0.5)\n",
    "# ax.vlines([x[cc_idx[1]]/xi_00], 0, 1, colors=\"-k\", linestyles=\"--\", linewidth=1)\n",
    "ax.plot(\n",
    "    x / xi_00,\n",
    "    up.Delta[Nx // 2] / Delta_00\n",
    "    + (np.diff(up.Delta / Delta_00) / (x[1] - x[0]))[Nx // 2] * (x - x[Nx // 2]),\n",
    "    \"C0--\",\n",
    ")\n",
    "\n",
    "ax.set_ylim(-0.05, 1.05)\n",
    "ax.set_xlabel(r\"$x/\\xi_{00}$\")\n",
    "\n",
    "ax2 = ax.twinx()\n",
    "ax2.hlines([+h_c0], -6, 6, colors=\"k\", linestyles=\"--\", linewidth=0.5)\n",
    "# ax2.hlines([-h_c], -6, 6, colors=\"k\", linestyles=\"--\", linewidth=1)\n",
    "\n",
    "ax2.plot(x / xi_00, h_x, \"-C1\", label=r\"$h_x$\")\n",
    "ax2.plot(x / xi_00, h_y, \"-C2\", label=r\"$h_y$\")\n",
    "ax2.set_ylabel(r\"$h$\")\n",
    "\n",
    "ax.legend()\n",
    "ax2.legend()"
   ]
  },
  {
   "cell_type": "markdown",
   "id": "f1a79f0d-e956-4d7a-8a8d-db39b7d7e2e1",
   "metadata": {},
   "source": [
    "## Spectrum solver"
   ]
  },
  {
   "cell_type": "code",
   "execution_count": 9,
   "id": "7d00bd07-b285-4353-bf24-28c828115b3b",
   "metadata": {},
   "outputs": [],
   "source": [
    "up.set_real_omega_ax(-3, 3, 101)\n",
    "up.solve_spectral(\n",
    "    gamma=0.5, tol=1e-6, max_iter=1000, print_exit_status=False, use_dense=True\n",
    ")"
   ]
  },
  {
   "cell_type": "code",
   "execution_count": 10,
   "id": "e8d258df-9666-429e-937a-10ab0facf609",
   "metadata": {},
   "outputs": [],
   "source": [
    "omega_ax = up.get_omega_ax_r()\n",
    "DOS = up.get_dos()\n",
    "DOSu, DOSd = up.get_spin_resolved_dos(\"x\")"
   ]
  },
  {
   "cell_type": "code",
   "execution_count": 11,
   "id": "8c31ad96-7df3-4d62-9f21-5b66c0978975",
   "metadata": {},
   "outputs": [
    {
     "data": {
      "image/png": "[encoded data removed]",
      "text/plain": [
       "<Figure size 432x144 with 6 Axes>"
      ]
     },
     "metadata": {
      "needs_background": "light"
     },
     "output_type": "display_data"
    }
   ],
   "source": [
    "fig, ax = plt.subplots(ncols=6, figsize=(6, 2), sharey=True)\n",
    "\n",
    "ax[0].plot(\n",
    "    DOS[:, Nx // 5 * 0 + 10], omega_ax,\n",
    ")\n",
    "ax[1].plot(\n",
    "    DOS[:, Nx // 5 * 1], omega_ax,\n",
    ")\n",
    "ax[2].plot(\n",
    "    DOS[:, Nx // 5 * 2], omega_ax,\n",
    ")\n",
    "ax[3].plot(\n",
    "    DOS[:, Nx // 5 * 3], omega_ax,\n",
    ")\n",
    "\n",
    "ax[4].plot(\n",
    "    DOS[:, Nx // 5 * 4], omega_ax,\n",
    ")\n",
    "\n",
    "ax[5].plot(\n",
    "    DOS[:, -1], omega_ax,\n",
    ")\n",
    "\n",
    "fig.tight_layout()"
   ]
  },
  {
   "cell_type": "code",
   "execution_count": null,
   "id": "fb832698-9df7-43a8-b061-41234bbfedd6",
   "metadata": {},
   "outputs": [],
   "source": []
  },
  {
   "cell_type": "code",
   "execution_count": null,
   "id": "9ef2c125-a61e-4ae3-8959-b1b0a2259eae",
   "metadata": {},
   "outputs": [],
   "source": []
  }
 ],
 "metadata": {
  "kernelspec": {
   "display_name": "Python [conda env:qenv310]",
   "language": "python",
   "name": "conda-env-qenv310-py"
  },
  "language_info": {
   "codemirror_mode": {
    "name": "ipython",
    "version": 3
   },
   "file_extension": ".py",
   "mimetype": "text/x-python",
   "name": "python",
   "nbconvert_exporter": "python",
   "pygments_lexer": "ipython3",
   "version": "3.10.4"
  }
 },
 "nbformat": 4,
 "nbformat_minor": 5
}
