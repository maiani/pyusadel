{
 "cells": [
  {
   "cell_type": "code",
   "execution_count": 1,
   "id": "1e184f36-bc7d-40dd-a2f3-2226a4ae24a8",
   "metadata": {},
   "outputs": [],
   "source": [
    "import adaptive\n",
    "import matplotlib\n",
    "import matplotlib.pyplot as plt\n",
    "import numpy as np\n",
    "import scipy.linalg as la\n",
    "from dask.distributed import Client, LocalCluster\n",
    "from dask_jobqueue import PBSCluster, SLURMCluster\n",
    "from scipy import sparse\n",
    "from scipy.sparse import linalg as sla\n",
    "from tqdm.notebook import tqdm"
   ]
  },
  {
   "cell_type": "code",
   "execution_count": 2,
   "id": "baf14286-cad5-40b7-a5a3-382d24c717d5",
   "metadata": {},
   "outputs": [],
   "source": [
    "from pyusadel import (\n",
    "    DifferentialOperators,\n",
    "    UsadelProblem,\n",
    "    gen_assemble_fun,\n",
    "    solve_usadel,\n",
    "    solve_usadel_self_consistent,\n",
    ")"
   ]
  },
  {
   "cell_type": "code",
   "execution_count": 3,
   "id": "e23f7b25-6928-4591-84b0-9b54af7576f0",
   "metadata": {},
   "outputs": [],
   "source": [
    "Nsites = 1\n",
    "do = DifferentialOperators()\n",
    "do.D_x = np.zeros((1, 1), dtype=float)\n",
    "do.D_y = np.zeros((1, 1), dtype=float)\n",
    "do.D_z = np.zeros((1, 1), dtype=float)\n",
    "do.L = np.zeros((1, 1), dtype=float)\n",
    "\n",
    "h_x = np.array([0.2])\n",
    "h_y = np.array([0])\n",
    "tau_sf_inv = np.array([0.1])\n",
    "tau_so_inv = np.array([0])\n",
    "D = 0\n",
    "T = 0.2\n",
    "\n",
    "problem = UsadelProblem(\n",
    "    Nsites=1,\n",
    "    diff_ops=do,\n",
    "    h_x=h_x,\n",
    "    h_y=h_y,\n",
    "    tau_sf_inv=tau_sf_inv,\n",
    "    tau_so_inv=tau_so_inv,\n",
    "    D=D,\n",
    "    T=T,\n",
    ")"
   ]
  },
  {
   "cell_type": "code",
   "execution_count": 4,
   "id": "da74d566-0b5e-4935-9a6f-086505812a65",
   "metadata": {},
   "outputs": [
    {
     "name": "stdout",
     "output_type": "stream",
     "text": [
      "  1    Max Delta: 1.099    Residual: 9.04e-02    Free energy: -8.37e-01\n",
      "  2    Max Delta: 1.190    Residual: 7.64e-02    Free energy: -9.23e-01\n",
      "  3    Max Delta: 1.272    Residual: 6.38e-02    Free energy: -9.93e-01\n",
      "  4    Max Delta: 1.343    Residual: 5.30e-02    Free energy: -1.05e+00\n",
      "  5    Max Delta: 1.404    Residual: 4.37e-02    Free energy: -1.09e+00\n",
      "  6    Max Delta: 1.456    Residual: 3.59e-02    Free energy: -1.12e+00\n",
      "  7    Max Delta: 1.500    Residual: 2.94e-02    Free energy: -1.14e+00\n",
      "  8    Max Delta: 1.537    Residual: 2.40e-02    Free energy: -1.15e+00\n",
      "  9    Max Delta: 1.568    Residual: 1.95e-02    Free energy: -1.16e+00\n",
      " 10    Max Delta: 1.593    Residual: 1.59e-02    Free energy: -1.17e+00\n",
      " 11    Max Delta: 1.614    Residual: 1.29e-02    Free energy: -1.17e+00\n",
      " 12    Max Delta: 1.631    Residual: 1.04e-02    Free energy: -1.18e+00\n",
      " 13    Max Delta: 1.645    Residual: 8.44e-03    Free energy: -1.18e+00\n",
      " 14    Max Delta: 1.656    Residual: 6.82e-03    Free energy: -1.18e+00\n",
      " 15    Max Delta: 1.665    Residual: 5.52e-03    Free energy: -1.18e+00\n",
      " 16    Max Delta: 1.673    Residual: 4.46e-03    Free energy: -1.18e+00\n",
      " 17    Max Delta: 1.679    Residual: 3.60e-03    Free energy: -1.18e+00\n",
      " 18    Max Delta: 1.684    Residual: 2.91e-03    Free energy: -1.18e+00\n",
      " 19    Max Delta: 1.688    Residual: 2.34e-03    Free energy: -1.18e+00\n",
      " 20    Max Delta: 1.691    Residual: 1.89e-03    Free energy: -1.18e+00\n",
      " 21    Max Delta: 1.693    Residual: 1.53e-03    Free energy: -1.18e+00\n",
      " 22    Max Delta: 1.695    Residual: 1.23e-03    Free energy: -1.18e+00\n",
      " 23    Max Delta: 1.697    Residual: 9.93e-04    Free energy: -1.18e+00\n",
      " 24    Max Delta: 1.699    Residual: 8.01e-04    Free energy: -1.18e+00\n",
      " 25    Max Delta: 1.700    Residual: 6.46e-04    Free energy: -1.18e+00\n",
      " 26    Max Delta: 1.700    Residual: 5.21e-04    Free energy: -1.18e+00\n",
      " 27    Max Delta: 1.701    Residual: 4.20e-04    Free energy: -1.18e+00\n",
      " 28    Max Delta: 1.702    Residual: 3.38e-04    Free energy: -1.18e+00\n",
      " 29    Max Delta: 1.702    Residual: 2.73e-04    Free energy: -1.18e+00\n",
      " 30    Max Delta: 1.703    Residual: 2.20e-04    Free energy: -1.18e+00\n",
      " 31    Max Delta: 1.703    Residual: 1.77e-04    Free energy: -1.18e+00\n",
      " 32    Max Delta: 1.703    Residual: 1.43e-04    Free energy: -1.18e+00\n",
      " 33    Max Delta: 1.703    Residual: 1.15e-04    Free energy: -1.18e+00\n",
      " 34    Max Delta: 1.704    Residual: 9.29e-05    Free energy: -1.18e+00\n",
      " 35    Max Delta: 1.704    Residual: 7.49e-05    Free energy: -1.18e+00\n",
      " 36    Max Delta: 1.704    Residual: 6.04e-05    Free energy: -1.18e+00\n",
      " 37    Max Delta: 1.704    Residual: 4.87e-05    Free energy: -1.18e+00\n",
      " 38    Max Delta: 1.704    Residual: 3.93e-05    Free energy: -1.18e+00\n",
      " 39    Max Delta: 1.704    Residual: 3.16e-05    Free energy: -1.18e+00\n",
      " 40    Max Delta: 1.704    Residual: 2.55e-05    Free energy: -1.18e+00\n",
      " 41    Max Delta: 1.704    Residual: 2.06e-05    Free energy: -1.18e+00\n",
      " 42    Max Delta: 1.704    Residual: 1.66e-05    Free energy: -1.18e+00\n",
      " 43    Max Delta: 1.704    Residual: 1.34e-05    Free energy: -1.18e+00\n",
      " 44    Max Delta: 1.704    Residual: 1.08e-05    Free energy: -1.18e+00\n",
      " 45    Max Delta: 1.704    Residual: 8.69e-06    Free energy: -1.18e+00\n",
      " 46    Max Delta: 1.704    Residual: 7.00e-06    Free energy: -1.18e+00\n",
      " 47    Max Delta: 1.704    Residual: 5.65e-06    Free energy: -1.18e+00\n",
      " 48    Max Delta: 1.704    Residual: 4.55e-06    Free energy: -1.18e+00\n",
      " 49    Max Delta: 1.704    Residual: 3.67e-06    Free energy: -1.18e+00\n",
      " 50    Max Delta: 1.704    Residual: 2.96e-06    Free energy: -1.18e+00\n",
      " 51    Max Delta: 1.704    Residual: 2.38e-06    Free energy: -1.18e+00\n",
      " 52    Max Delta: 1.704    Residual: 1.92e-06    Free energy: -1.18e+00\n",
      " 53    Max Delta: 1.704    Residual: 1.55e-06    Free energy: -1.18e+00\n",
      " 54    Max Delta: 1.704    Residual: 1.25e-06    Free energy: -1.18e+00\n",
      " 55    Max Delta: 1.704    Residual: 1.01e-06    Free energy: -1.18e+00\n",
      " 56    Max Delta: 1.704    Residual: 8.12e-07    Free energy: -1.18e+00\n",
      "Converged in 56 iterations\n"
     ]
    }
   ],
   "source": [
    "problem.Delta = np.array([1])\n",
    "problem.solve_self_consistent()"
   ]
  },
  {
   "cell_type": "code",
   "execution_count": 8,
   "id": "d3a35b5d-3959-4e99-bef1-382e7ff04894",
   "metadata": {},
   "outputs": [],
   "source": [
    "problem.set_real_omega_ax(-2, 2, 30)\n",
    "problem.solve_spectral()"
   ]
  },
  {
   "cell_type": "code",
   "execution_count": 9,
   "id": "c3e5254c-58a2-4923-a77b-550f8d8f1d30",
   "metadata": {},
   "outputs": [
    {
     "data": {
      "text/plain": [
       "[<matplotlib.lines.Line2D at 0x7fff914eae90>]"
      ]
     },
     "execution_count": 9,
     "metadata": {},
     "output_type": "execute_result"
    },
    {
     "data": {
      "image/png": "[encoded data removed]",
      "text/plain": [
       "<Figure size 432x288 with 1 Axes>"
      ]
     },
     "metadata": {
      "needs_background": "light"
     },
     "output_type": "display_data"
    }
   ],
   "source": [
    "plt.plot(problem.get_omega_ax_r(), \n",
    "         problem.get_dos())"
   ]
  },
  {
   "cell_type": "code",
   "execution_count": null,
   "id": "9987e022-adec-4573-9694-8529a91d1d08",
   "metadata": {},
   "outputs": [],
   "source": []
  },
  {
   "cell_type": "code",
   "execution_count": null,
   "id": "9ad0c14e-5287-42d2-8028-d15037db7660",
   "metadata": {},
   "outputs": [],
   "source": [
    "Nx = 400\n",
    "x = np.linspace(-10, 10, Nx)\n",
    "dx = x[1] - x[0]\n",
    "\n",
    "h_x = np.zeros((Nx), dtype=float)\n",
    "h_y = np.zeros((Nx), dtype=float)\n",
    "\n",
    "# h_x[: Nx // 2] = 0\n",
    "# h_x[Nx // 2 :] = 2\n",
    "\n",
    "# L_dw = 1\n",
    "# h_s = 1.35\n",
    "# h_x = h_s * np.tanh(x / L_dw)\n",
    "# h_y = h_s * 1 / np.cosh(x / L_dw)\n",
    "\n",
    "L_dw = 0.87\n",
    "h_s = 1.4  # 35\n",
    "h_x = h_s * np.cos(x / L_dw)\n",
    "h_y = h_s * np.sin(x / L_dw)"
   ]
  },
  {
   "cell_type": "code",
   "execution_count": null,
   "id": "ff3d0494-9146-4589-8ac8-a6faeb82c1f3",
   "metadata": {},
   "outputs": [],
   "source": [
    "T_c0 = 1\n",
    "Delta_00 = T_c0 * 1.7652\n",
    "h_c0 = Delta_00 / np.sqrt(2)\n",
    "\n",
    "D = 1 ** 2 * Delta_00\n",
    "xi_00 = np.sqrt(D / Delta_00)"
   ]
  },
  {
   "cell_type": "code",
   "execution_count": null,
   "id": "bb4d74b0-aaba-4a10-94a1-c77225b54d7d",
   "metadata": {},
   "outputs": [],
   "source": [
    "tau_so_inv = 0.0\n",
    "tau_sf_inv = 0.0"
   ]
  },
  {
   "cell_type": "code",
   "execution_count": null,
   "id": "75ff93d6-af2b-4300-b548-6925305201fa",
   "metadata": {},
   "outputs": [],
   "source": [
    "D_x = Grad(Nx) / (2 * dx)\n",
    "L = Laplacian1D(Nx, \"open\") / dx ** 2\n",
    "\n",
    "# L = np.array([[0, 0], [0, 0]])\n",
    "# D_x = np.array([[0, 0], [0, 0]])\n",
    "# D = 0\n",
    "\n",
    "assemble_fun = gen_assemble_fun(D, L, D_x, tau_so_inv, tau_sf_inv)"
   ]
  },
  {
   "cell_type": "code",
   "execution_count": null,
   "id": "e789ee90-d815-4a7a-90a3-eca8a060f6cb",
   "metadata": {
    "tags": []
   },
   "outputs": [],
   "source": [
    "fig, ax = plt.subplots()\n",
    "ax.hlines([h_c0, -h_c0], -6, 6, colors=\"k\", linestyles=\"--\", linewidth=1)\n",
    "ax.plot(x / xi_00, h_x, \"-\", label=r\"$h_x$\")\n",
    "ax.plot(x / xi_00, h_y, \"-\", label=r\"$h_y$\")\n",
    "ax.plot(x / xi_00, np.sqrt(h_x ** 2 + h_y ** 2), \"-\", label=r\"$|h|$\")\n",
    "ax.set_xlabel(r\"$x / \\xi_{00}$\")\n",
    "ax.legend()"
   ]
  },
  {
   "cell_type": "code",
   "execution_count": null,
   "id": "6dd615b4-57dc-4467-902c-6001e706d821",
   "metadata": {},
   "outputs": [],
   "source": [
    "a_ax"
   ]
  }
 ],
 "metadata": {
  "kernelspec": {
   "display_name": "Python [conda env:qenv310]",
   "language": "python",
   "name": "conda-env-qenv310-py"
  },
  "language_info": {
   "codemirror_mode": {
    "name": "ipython",
    "version": 3
   },
   "file_extension": ".py",
   "mimetype": "text/x-python",
   "name": "python",
   "nbconvert_exporter": "python",
   "pygments_lexer": "ipython3",
   "version": "3.10.4"
  }
 },
 "nbformat": 4,
 "nbformat_minor": 5
}
